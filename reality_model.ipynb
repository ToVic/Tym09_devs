{
 "cells": [
  {
   "cell_type": "code",
   "execution_count": null,
   "outputs": [],
   "source": [
    "import pandas as pd\n",
    "import re\n",
    "\n",
    "df = pd.read_csv('data/reality_df.csv')\n",
    "# dropnout zbytecne sloupce\n",
    "cols_to_drop = ['title', 'obcanska_vybavenost', 'id', 'available_from', 'updated', 'address']\n",
    "df.drop(columns=cols_to_drop, inplace=True)"
   ],
   "metadata": {
    "collapsed": false,
    "pycharm": {
     "name": "#%%\n"
    }
   }
  },
  {
   "cell_type": "code",
   "execution_count": null,
   "outputs": [],
   "source": [
    "# vytvorit mapu slov, kde se snazim cislovku slovy prevest na cislo (integer)\n",
    "num_wordings = ['první', 'druhé', 'třetí', 'čtvrté', 'páté', 'šesté', 'sedmé', 'osmé', 'deváté', 'desáté',\n",
    "                'jedenácté', 'dvanácté', 'třinácté', 'čtrnácté', 'patnácté', 'šestnácté', 'sedmnácté', 'osmnácté',\n",
    "                'devatenácté']\n",
    "# mapping\n",
    "mapping = {'první': 1, 'druhé': 2, 'třetí': 3, 'čtvrté': 4, 'páté': 5, 'šesté': 6, 'sedmé': 7, 'osmé': 8,\n",
    "           'deváté': 9, 'desáté': 10, 'jedenácté': 11, 'dvanácté': 12, 'třinácté': 13, 'čtrnácté': 14,\n",
    "           'patnácté': 15, 'šestnácté': 16, 'sedmnácté': 17, 'osmnácté': 18, 'devatenácté': 19}\n",
    "\n",
    "# funkce, co vyhodi bud 0 = prizemi, last = posledni patro, nebo cislovku patra z description\n",
    "def get_floor(row):\n",
    "  if 'poslední' in str(row).strip():\n",
    "    patro = 'last'\n",
    "  elif 'přízem' in str(row).strip():\n",
    "    patro = '0'\n",
    "  else:\n",
    "    # hleda slovo \"patr\" a pred nimi cislovku nebo slovo s cislovkou\n",
    "    patro = re.search(r'([\\w]+)(\\s)([\\w.]+)(\\s)(pat[řero]+)', row)\n",
    "\n",
    "    # pokud regex naleze pattern, tedy slovo patro\n",
    "    if patro is not None:\n",
    "\n",
    "      # vlozit nalezeny patter do promenne\n",
    "      patro = patro[0]\n",
    "\n",
    "      # najit cislovku (integer)\n",
    "      number = re.search(r'\\d', patro)\n",
    "\n",
    "      # pokud nalezneme cislovku, pak cislovka = patro\n",
    "      if number is not None:\n",
    "        patro = number[0]\n",
    "\n",
    "      # pokud nenalezneme cislovku, pak\n",
    "      else:\n",
    "\n",
    "        # projet loopem slova z mappingu, tedy cislovky psany slovy\n",
    "        for word in num_wordings:\n",
    "          if word in patro.strip():\n",
    "            patro = mapping[word]\n",
    "            break\n",
    "  return patro\n",
    "\n",
    "# aplikovat funkci vyse, vyplnit tedy missing values tim, co vyplivla\n",
    "df['floor'].fillna(df['description'].apply(get_floor), inplace=True)\n"
   ],
   "metadata": {
    "collapsed": false,
    "pycharm": {
     "name": "#%%\n"
    }
   }
  },
  {
   "cell_type": "code",
   "execution_count": null,
   "outputs": [],
   "source": [
    "# pokud je v description zmineno slovo \"sklep\", pak vyhodi true, jinak vyhodi None (ne False, protoze\n",
    "# neni jistota, ze absence zminky o sklepu znamena absenci sklepu)\n",
    "\n",
    "def get_basement_from_description(row):\n",
    "  return True if re.search(r'(sklep)+', row) is not None else None\n",
    "\n",
    "# nahradit missing values v basement tam, kde to lze vycist z desc\n",
    "df['basement'].fillna(df['description'].apply(get_basement_from_description), inplace = True)"
   ],
   "metadata": {
    "collapsed": false,
    "pycharm": {
     "name": "#%%\n"
    }
   }
  },
  {
   "cell_type": "code",
   "execution_count": null,
   "outputs": [],
   "source": [
    "# pokud je v description zmineno slovo \"garaz\" nebo \"garáž\", pak vyhodi true, jinak vyhodi None (ne False, protoze\n",
    "# neni jistota, ze absence zminky o garáže znamena absenci garáže)\n",
    "\n",
    "def get_garage_from_description(row):\n",
    "  return True if re.search(r'(garaz|garáž)+', row) is not None else None\n",
    "\n",
    "# nahradit missing values v basement tam, kde to lze vycist z desc\n",
    "df['garage'].fillna(df['description'].apply(get_garage_from_description), inplace = True)"
   ],
   "metadata": {
    "collapsed": false,
    "pycharm": {
     "name": "#%%\n"
    }
   }
  },
  {
   "cell_type": "code",
   "execution_count": null,
   "outputs": [],
   "source": [
    "# pokud je v description zmineno slovo \"výtah\" nebo \"vytah\", pak vyhodi true, jinak vyhodi None (ne False, protoze\n",
    "# neni jistota, ze absence zminky o garáže znamena absenci garáže)\n",
    "\n",
    "def get_elevator_from_description(row):\n",
    "  elevator = True if re.search(r'(vytah|výtah)+', row) is not None else None\n",
    "  return elevator\n",
    "\n",
    "# nahradit missing values v basement tam, kde to lze vycist z desc\n",
    "df['elevator'].fillna(df['description'].apply(get_elevator_from_description), inplace = True)"
   ],
   "metadata": {
    "collapsed": false,
    "pycharm": {
     "name": "#%%\n"
    }
   }
  },
  {
   "cell_type": "code",
   "execution_count": null,
   "outputs": [],
   "source": [
    "#naplnit PENB, protoze neuvedene PENB (tedy nezname, neudelane) ze zakona musi byt oznaceno jako G, tedy nejhorsi\n",
    "\n",
    "df['penb'].fillna('G', inplace = True)\n",
    "\n",
    "# TODO: build some kickass model"
   ],
   "metadata": {
    "collapsed": false,
    "pycharm": {
     "name": "#%%\n"
    }
   }
  }
 ],
 "metadata": {
  "kernelspec": {
   "display_name": "Python 3",
   "language": "python",
   "name": "python3"
  },
  "language_info": {
   "codemirror_mode": {
    "name": "ipython",
    "version": 2
   },
   "file_extension": ".py",
   "mimetype": "text/x-python",
   "name": "python",
   "nbconvert_exporter": "python",
   "pygments_lexer": "ipython2",
   "version": "2.7.6"
  }
 },
 "nbformat": 4,
 "nbformat_minor": 0
}