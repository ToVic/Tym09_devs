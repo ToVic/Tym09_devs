{
 "cells": [
  {
   "cell_type": "code",
   "execution_count": 397,
   "metadata": {},
   "outputs": [],
   "source": [
    "import pandas as pd\n",
    "import numpy as np"
   ]
  },
  {
   "cell_type": "code",
   "execution_count": 398,
   "metadata": {},
   "outputs": [],
   "source": [
    "df = pd.read_csv('reality_df.csv')"
   ]
  },
  {
   "cell_type": "code",
   "execution_count": 399,
   "metadata": {},
   "outputs": [
    {
     "data": {
      "text/html": [
       "<div>\n",
       "<style scoped>\n",
       "    .dataframe tbody tr th:only-of-type {\n",
       "        vertical-align: middle;\n",
       "    }\n",
       "\n",
       "    .dataframe tbody tr th {\n",
       "        vertical-align: top;\n",
       "    }\n",
       "\n",
       "    .dataframe thead th {\n",
       "        text-align: right;\n",
       "    }\n",
       "</style>\n",
       "<table border=\"1\" class=\"dataframe\">\n",
       "  <thead>\n",
       "    <tr style=\"text-align: right;\">\n",
       "      <th></th>\n",
       "      <th>_id</th>\n",
       "      <th>title</th>\n",
       "      <th>address</th>\n",
       "      <th>description</th>\n",
       "      <th>price</th>\n",
       "      <th>updated</th>\n",
       "      <th>size</th>\n",
       "      <th>area</th>\n",
       "      <th>owner</th>\n",
       "      <th>building_type</th>\n",
       "      <th>...</th>\n",
       "      <th>loggia</th>\n",
       "      <th>umistneni_objektu</th>\n",
       "      <th>doprava</th>\n",
       "      <th>voda</th>\n",
       "      <th>odpad</th>\n",
       "      <th>obcanska_vybavenost</th>\n",
       "      <th>id</th>\n",
       "      <th>garage</th>\n",
       "      <th>available_from</th>\n",
       "      <th>date_updated</th>\n",
       "    </tr>\n",
       "  </thead>\n",
       "  <tbody>\n",
       "    <tr>\n",
       "      <th>0</th>\n",
       "      <td>https://www.prazskereality.cz/prostorny-hezky-...</td>\n",
       "      <td>Byt na prodej, 2+1, Praha 3 - Žižkov</td>\n",
       "      <td>Praha 3 - Žižkov, Čajkovského</td>\n",
       "      <td>Byt na prodej / 2+1 / 77 m2 - Byty na prodej t...</td>\n",
       "      <td>7700000</td>\n",
       "      <td>23.04.2021</td>\n",
       "      <td>2+1</td>\n",
       "      <td>77.0</td>\n",
       "      <td>osobní</td>\n",
       "      <td>cihlová</td>\n",
       "      <td>...</td>\n",
       "      <td>NaN</td>\n",
       "      <td>NaN</td>\n",
       "      <td>NaN</td>\n",
       "      <td>NaN</td>\n",
       "      <td>NaN</td>\n",
       "      <td>NaN</td>\n",
       "      <td>NaN</td>\n",
       "      <td>NaN</td>\n",
       "      <td>NaN</td>\n",
       "      <td>2021-04-26</td>\n",
       "    </tr>\n",
       "    <tr>\n",
       "      <th>1</th>\n",
       "      <td>https://www.prazskereality.cz/exkluzivne-nabiz...</td>\n",
       "      <td>Byt na prodej, 4+kk, Praha 1 - Nové Město</td>\n",
       "      <td>Praha 1 - Nové Město, Soukenická</td>\n",
       "      <td>Byt na prodej / 4+kk / 151 m2 - Byty na prodej...</td>\n",
       "      <td>19500000</td>\n",
       "      <td>23.04.2021</td>\n",
       "      <td>4+kk</td>\n",
       "      <td>151.0</td>\n",
       "      <td>osobní</td>\n",
       "      <td>cihlová</td>\n",
       "      <td>...</td>\n",
       "      <td>NaN</td>\n",
       "      <td>NaN</td>\n",
       "      <td>NaN</td>\n",
       "      <td>NaN</td>\n",
       "      <td>NaN</td>\n",
       "      <td>NaN</td>\n",
       "      <td>NaN</td>\n",
       "      <td>NaN</td>\n",
       "      <td>NaN</td>\n",
       "      <td>2021-04-26</td>\n",
       "    </tr>\n",
       "    <tr>\n",
       "      <th>2</th>\n",
       "      <td>https://www.prazskereality.cz/nabizim-k-prodej...</td>\n",
       "      <td>Byt na prodej, 3+1, Praha 5 - Hlubočepy</td>\n",
       "      <td>Praha 5 - Hlubočepy, 15 200, Lamačova 824/9</td>\n",
       "      <td>Byt na prodej / 3+1 / 74 m2 - Byty na prodej t...</td>\n",
       "      <td>6950000</td>\n",
       "      <td>23.04.2021</td>\n",
       "      <td>3+1</td>\n",
       "      <td>74.0</td>\n",
       "      <td>osobní</td>\n",
       "      <td>panelová</td>\n",
       "      <td>...</td>\n",
       "      <td>NaN</td>\n",
       "      <td>NaN</td>\n",
       "      <td>NaN</td>\n",
       "      <td>NaN</td>\n",
       "      <td>NaN</td>\n",
       "      <td>NaN</td>\n",
       "      <td>NaN</td>\n",
       "      <td>NaN</td>\n",
       "      <td>NaN</td>\n",
       "      <td>2021-04-26</td>\n",
       "    </tr>\n",
       "    <tr>\n",
       "      <th>3</th>\n",
       "      <td>https://www.prazskereality.cz/prodej-luxusniho...</td>\n",
       "      <td>Byt na prodej, 5+1, Praha 5 - Smíchov</td>\n",
       "      <td>Praha 5 - Smíchov, 15 000, Holečkova 3331/35</td>\n",
       "      <td>Byt na prodej / 5+1 / 277 m2 - Byty na prodej ...</td>\n",
       "      <td>29900000</td>\n",
       "      <td>23.04.2021</td>\n",
       "      <td>5+1</td>\n",
       "      <td>277.0</td>\n",
       "      <td>osobní</td>\n",
       "      <td>skeletová</td>\n",
       "      <td>...</td>\n",
       "      <td>NaN</td>\n",
       "      <td>NaN</td>\n",
       "      <td>NaN</td>\n",
       "      <td>NaN</td>\n",
       "      <td>NaN</td>\n",
       "      <td>NaN</td>\n",
       "      <td>NaN</td>\n",
       "      <td>NaN</td>\n",
       "      <td>NaN</td>\n",
       "      <td>2021-04-26</td>\n",
       "    </tr>\n",
       "    <tr>\n",
       "      <th>4</th>\n",
       "      <td>https://www.prazskereality.cz/v-soucasne-situa...</td>\n",
       "      <td>Byt na prodej, 3+kk, Praha 2 - Vinohrady</td>\n",
       "      <td>Praha 2 - Vinohrady, 12 000, U Zvonařky 2536/1a</td>\n",
       "      <td>Byt na prodej / 3+kk / 71 m2 - Byty na prodej ...</td>\n",
       "      <td>12500000</td>\n",
       "      <td>23.04.2021</td>\n",
       "      <td>3+kk</td>\n",
       "      <td>71.0</td>\n",
       "      <td>osobní</td>\n",
       "      <td>skeletová</td>\n",
       "      <td>...</td>\n",
       "      <td>NaN</td>\n",
       "      <td>NaN</td>\n",
       "      <td>NaN</td>\n",
       "      <td>NaN</td>\n",
       "      <td>NaN</td>\n",
       "      <td>NaN</td>\n",
       "      <td>NaN</td>\n",
       "      <td>NaN</td>\n",
       "      <td>NaN</td>\n",
       "      <td>2021-04-26</td>\n",
       "    </tr>\n",
       "  </tbody>\n",
       "</table>\n",
       "<p>5 rows × 41 columns</p>\n",
       "</div>"
      ],
      "text/plain": [
       "                                                 _id  \\\n",
       "0  https://www.prazskereality.cz/prostorny-hezky-...   \n",
       "1  https://www.prazskereality.cz/exkluzivne-nabiz...   \n",
       "2  https://www.prazskereality.cz/nabizim-k-prodej...   \n",
       "3  https://www.prazskereality.cz/prodej-luxusniho...   \n",
       "4  https://www.prazskereality.cz/v-soucasne-situa...   \n",
       "\n",
       "                                       title  \\\n",
       "0       Byt na prodej, 2+1, Praha 3 - Žižkov   \n",
       "1  Byt na prodej, 4+kk, Praha 1 - Nové Město   \n",
       "2    Byt na prodej, 3+1, Praha 5 - Hlubočepy   \n",
       "3      Byt na prodej, 5+1, Praha 5 - Smíchov   \n",
       "4   Byt na prodej, 3+kk, Praha 2 - Vinohrady   \n",
       "\n",
       "                                           address  \\\n",
       "0                    Praha 3 - Žižkov, Čajkovského   \n",
       "1                 Praha 1 - Nové Město, Soukenická   \n",
       "2      Praha 5 - Hlubočepy, 15 200, Lamačova 824/9   \n",
       "3     Praha 5 - Smíchov, 15 000, Holečkova 3331/35   \n",
       "4  Praha 2 - Vinohrady, 12 000, U Zvonařky 2536/1a   \n",
       "\n",
       "                                         description     price     updated  \\\n",
       "0  Byt na prodej / 2+1 / 77 m2 - Byty na prodej t...   7700000  23.04.2021   \n",
       "1  Byt na prodej / 4+kk / 151 m2 - Byty na prodej...  19500000  23.04.2021   \n",
       "2  Byt na prodej / 3+1 / 74 m2 - Byty na prodej t...   6950000  23.04.2021   \n",
       "3  Byt na prodej / 5+1 / 277 m2 - Byty na prodej ...  29900000  23.04.2021   \n",
       "4  Byt na prodej / 3+kk / 71 m2 - Byty na prodej ...  12500000  23.04.2021   \n",
       "\n",
       "   size   area   owner building_type  ... loggia umistneni_objektu doprava  \\\n",
       "0   2+1   77.0  osobní       cihlová  ...    NaN               NaN     NaN   \n",
       "1  4+kk  151.0  osobní       cihlová  ...    NaN               NaN     NaN   \n",
       "2   3+1   74.0  osobní      panelová  ...    NaN               NaN     NaN   \n",
       "3   5+1  277.0  osobní     skeletová  ...    NaN               NaN     NaN   \n",
       "4  3+kk   71.0  osobní     skeletová  ...    NaN               NaN     NaN   \n",
       "\n",
       "  voda odpad obcanska_vybavenost  id garage available_from date_updated  \n",
       "0  NaN   NaN                 NaN NaN    NaN            NaN   2021-04-26  \n",
       "1  NaN   NaN                 NaN NaN    NaN            NaN   2021-04-26  \n",
       "2  NaN   NaN                 NaN NaN    NaN            NaN   2021-04-26  \n",
       "3  NaN   NaN                 NaN NaN    NaN            NaN   2021-04-26  \n",
       "4  NaN   NaN                 NaN NaN    NaN            NaN   2021-04-26  \n",
       "\n",
       "[5 rows x 41 columns]"
      ]
     },
     "execution_count": 399,
     "metadata": {},
     "output_type": "execute_result"
    }
   ],
   "source": [
    "df.head()"
   ]
  },
  {
   "cell_type": "code",
   "execution_count": 400,
   "metadata": {},
   "outputs": [
    {
     "data": {
      "text/plain": [
       "4350"
      ]
     },
     "execution_count": 400,
     "metadata": {},
     "output_type": "execute_result"
    }
   ],
   "source": [
    "len(df)"
   ]
  },
  {
   "cell_type": "code",
   "execution_count": 401,
   "metadata": {},
   "outputs": [
    {
     "data": {
      "text/html": [
       "<div>\n",
       "<style scoped>\n",
       "    .dataframe tbody tr th:only-of-type {\n",
       "        vertical-align: middle;\n",
       "    }\n",
       "\n",
       "    .dataframe tbody tr th {\n",
       "        vertical-align: top;\n",
       "    }\n",
       "\n",
       "    .dataframe thead th {\n",
       "        text-align: right;\n",
       "    }\n",
       "</style>\n",
       "<table border=\"1\" class=\"dataframe\">\n",
       "  <thead>\n",
       "    <tr style=\"text-align: right;\">\n",
       "      <th></th>\n",
       "      <th>area</th>\n",
       "      <th>id</th>\n",
       "    </tr>\n",
       "  </thead>\n",
       "  <tbody>\n",
       "    <tr>\n",
       "      <th>count</th>\n",
       "      <td>4344.000000</td>\n",
       "      <td>426.000000</td>\n",
       "    </tr>\n",
       "    <tr>\n",
       "      <th>mean</th>\n",
       "      <td>20.060313</td>\n",
       "      <td>640773.375587</td>\n",
       "    </tr>\n",
       "    <tr>\n",
       "      <th>std</th>\n",
       "      <td>40.049383</td>\n",
       "      <td>43456.763128</td>\n",
       "    </tr>\n",
       "    <tr>\n",
       "      <th>min</th>\n",
       "      <td>0.000000</td>\n",
       "      <td>167870.000000</td>\n",
       "    </tr>\n",
       "    <tr>\n",
       "      <th>25%</th>\n",
       "      <td>3.000000</td>\n",
       "      <td>648419.500000</td>\n",
       "    </tr>\n",
       "    <tr>\n",
       "      <th>50%</th>\n",
       "      <td>6.000000</td>\n",
       "      <td>654581.500000</td>\n",
       "    </tr>\n",
       "    <tr>\n",
       "      <th>75%</th>\n",
       "      <td>9.000000</td>\n",
       "      <td>657890.500000</td>\n",
       "    </tr>\n",
       "    <tr>\n",
       "      <th>max</th>\n",
       "      <td>969.000000</td>\n",
       "      <td>660611.000000</td>\n",
       "    </tr>\n",
       "  </tbody>\n",
       "</table>\n",
       "</div>"
      ],
      "text/plain": [
       "              area             id\n",
       "count  4344.000000     426.000000\n",
       "mean     20.060313  640773.375587\n",
       "std      40.049383   43456.763128\n",
       "min       0.000000  167870.000000\n",
       "25%       3.000000  648419.500000\n",
       "50%       6.000000  654581.500000\n",
       "75%       9.000000  657890.500000\n",
       "max     969.000000  660611.000000"
      ]
     },
     "execution_count": 401,
     "metadata": {},
     "output_type": "execute_result"
    }
   ],
   "source": [
    "df.describe()"
   ]
  },
  {
   "cell_type": "code",
   "execution_count": 402,
   "metadata": {},
   "outputs": [
    {
     "data": {
      "text/plain": [
       "['updated',\n",
       " 'state',\n",
       " 'equipment',\n",
       " 'barrier_free',\n",
       " 'city_part',\n",
       " 'city',\n",
       " 'street',\n",
       " 'building_state',\n",
       " 'floor_max',\n",
       " 'heating',\n",
       " 'locality',\n",
       " 'electricity',\n",
       " 'parking',\n",
       " 'gas',\n",
       " 'internet',\n",
       " 'annual_electricity',\n",
       " 'loggia',\n",
       " 'umistneni_objektu',\n",
       " 'doprava',\n",
       " 'voda',\n",
       " 'odpad',\n",
       " 'obcanska_vybavenost',\n",
       " 'id',\n",
       " 'garage',\n",
       " 'available_from']"
      ]
     },
     "execution_count": 402,
     "metadata": {},
     "output_type": "execute_result"
    }
   ],
   "source": [
    "list(df.isna().sum()[df.isna().sum() > 500].index)"
   ]
  },
  {
   "cell_type": "code",
   "execution_count": 403,
   "metadata": {},
   "outputs": [],
   "source": [
    "cols_to_drop = list(df.isna().sum()[df.isna().sum() > 500].index)"
   ]
  },
  {
   "cell_type": "code",
   "execution_count": 404,
   "metadata": {},
   "outputs": [
    {
     "data": {
      "text/plain": [
       "['updated',\n",
       " 'state',\n",
       " 'equipment',\n",
       " 'barrier_free',\n",
       " 'city_part',\n",
       " 'city',\n",
       " 'street',\n",
       " 'building_state',\n",
       " 'floor_max',\n",
       " 'heating',\n",
       " 'locality',\n",
       " 'electricity',\n",
       " 'parking',\n",
       " 'gas',\n",
       " 'internet',\n",
       " 'annual_electricity',\n",
       " 'loggia',\n",
       " 'umistneni_objektu',\n",
       " 'doprava',\n",
       " 'voda',\n",
       " 'odpad',\n",
       " 'obcanska_vybavenost',\n",
       " 'id',\n",
       " 'garage',\n",
       " 'available_from']"
      ]
     },
     "execution_count": 404,
     "metadata": {},
     "output_type": "execute_result"
    }
   ],
   "source": [
    "cols_to_drop"
   ]
  },
  {
   "cell_type": "code",
   "execution_count": 405,
   "metadata": {},
   "outputs": [],
   "source": [
    "df = df.drop(columns = cols_to_drop)\n",
    "df = df.drop(columns = ['address', 'description', 'date_updated', 'title'])"
   ]
  },
  {
   "cell_type": "code",
   "execution_count": 406,
   "metadata": {},
   "outputs": [],
   "source": [
    "df.set_index('_id', inplace = True)"
   ]
  },
  {
   "cell_type": "code",
   "execution_count": 407,
   "metadata": {},
   "outputs": [
    {
     "data": {
      "text/html": [
       "<div>\n",
       "<style scoped>\n",
       "    .dataframe tbody tr th:only-of-type {\n",
       "        vertical-align: middle;\n",
       "    }\n",
       "\n",
       "    .dataframe tbody tr th {\n",
       "        vertical-align: top;\n",
       "    }\n",
       "\n",
       "    .dataframe thead th {\n",
       "        text-align: right;\n",
       "    }\n",
       "</style>\n",
       "<table border=\"1\" class=\"dataframe\">\n",
       "  <thead>\n",
       "    <tr style=\"text-align: right;\">\n",
       "      <th></th>\n",
       "      <th>price</th>\n",
       "      <th>size</th>\n",
       "      <th>area</th>\n",
       "      <th>owner</th>\n",
       "      <th>building_type</th>\n",
       "      <th>balcony</th>\n",
       "      <th>basement</th>\n",
       "      <th>elevator</th>\n",
       "      <th>floor</th>\n",
       "      <th>penb</th>\n",
       "      <th>terrace</th>\n",
       "    </tr>\n",
       "    <tr>\n",
       "      <th>_id</th>\n",
       "      <th></th>\n",
       "      <th></th>\n",
       "      <th></th>\n",
       "      <th></th>\n",
       "      <th></th>\n",
       "      <th></th>\n",
       "      <th></th>\n",
       "      <th></th>\n",
       "      <th></th>\n",
       "      <th></th>\n",
       "      <th></th>\n",
       "    </tr>\n",
       "  </thead>\n",
       "  <tbody>\n",
       "    <tr>\n",
       "      <th>https://www.prazskereality.cz/prostorny-hezky-svetly-byt-2-1-v-ov-umisteny-ve-2-np-cin-7386380.html</th>\n",
       "      <td>7700000</td>\n",
       "      <td>2+1</td>\n",
       "      <td>77.0</td>\n",
       "      <td>osobní</td>\n",
       "      <td>cihlová</td>\n",
       "      <td>False</td>\n",
       "      <td>True</td>\n",
       "      <td>True</td>\n",
       "      <td>2</td>\n",
       "      <td>G</td>\n",
       "      <td>False</td>\n",
       "    </tr>\n",
       "    <tr>\n",
       "      <th>https://www.prazskereality.cz/exkluzivne-nabizime-klimatizovany-byt-4-kk-umisteny-v-5--6726946.html</th>\n",
       "      <td>19500000</td>\n",
       "      <td>4+kk</td>\n",
       "      <td>151.0</td>\n",
       "      <td>osobní</td>\n",
       "      <td>cihlová</td>\n",
       "      <td>False</td>\n",
       "      <td>True</td>\n",
       "      <td>True</td>\n",
       "      <td>6</td>\n",
       "      <td>G</td>\n",
       "      <td>False</td>\n",
       "    </tr>\n",
       "    <tr>\n",
       "      <th>https://www.prazskereality.cz/nabizim-k-prodeji-velmi-pekny-zrekonstruovany-vybaveny-b-7358790.html</th>\n",
       "      <td>6950000</td>\n",
       "      <td>3+1</td>\n",
       "      <td>74.0</td>\n",
       "      <td>osobní</td>\n",
       "      <td>panelová</td>\n",
       "      <td>False</td>\n",
       "      <td>True</td>\n",
       "      <td>True</td>\n",
       "      <td>3</td>\n",
       "      <td>NaN</td>\n",
       "      <td>False</td>\n",
       "    </tr>\n",
       "    <tr>\n",
       "      <th>https://www.prazskereality.cz/prodej-luxusniho-mezonetoveho-bytu-5-1-s-moznosti-odpoct-7384977.html</th>\n",
       "      <td>29900000</td>\n",
       "      <td>5+1</td>\n",
       "      <td>277.0</td>\n",
       "      <td>osobní</td>\n",
       "      <td>skeletová</td>\n",
       "      <td>False</td>\n",
       "      <td>True</td>\n",
       "      <td>True</td>\n",
       "      <td>2</td>\n",
       "      <td>NaN</td>\n",
       "      <td>True</td>\n",
       "    </tr>\n",
       "    <tr>\n",
       "      <th>https://www.prazskereality.cz/v-soucasne-situaci-nabizime-bezne-prohlidky-s-rouskou-a--7358850.html</th>\n",
       "      <td>12500000</td>\n",
       "      <td>3+kk</td>\n",
       "      <td>71.0</td>\n",
       "      <td>osobní</td>\n",
       "      <td>skeletová</td>\n",
       "      <td>False</td>\n",
       "      <td>False</td>\n",
       "      <td>True</td>\n",
       "      <td>3</td>\n",
       "      <td>NaN</td>\n",
       "      <td>False</td>\n",
       "    </tr>\n",
       "  </tbody>\n",
       "</table>\n",
       "</div>"
      ],
      "text/plain": [
       "                                                       price  size   area  \\\n",
       "_id                                                                         \n",
       "https://www.prazskereality.cz/prostorny-hezky-s...   7700000   2+1   77.0   \n",
       "https://www.prazskereality.cz/exkluzivne-nabizi...  19500000  4+kk  151.0   \n",
       "https://www.prazskereality.cz/nabizim-k-prodeji...   6950000   3+1   74.0   \n",
       "https://www.prazskereality.cz/prodej-luxusniho-...  29900000   5+1  277.0   \n",
       "https://www.prazskereality.cz/v-soucasne-situac...  12500000  3+kk   71.0   \n",
       "\n",
       "                                                     owner building_type  \\\n",
       "_id                                                                        \n",
       "https://www.prazskereality.cz/prostorny-hezky-s...  osobní       cihlová   \n",
       "https://www.prazskereality.cz/exkluzivne-nabizi...  osobní       cihlová   \n",
       "https://www.prazskereality.cz/nabizim-k-prodeji...  osobní      panelová   \n",
       "https://www.prazskereality.cz/prodej-luxusniho-...  osobní     skeletová   \n",
       "https://www.prazskereality.cz/v-soucasne-situac...  osobní     skeletová   \n",
       "\n",
       "                                                   balcony basement elevator  \\\n",
       "_id                                                                            \n",
       "https://www.prazskereality.cz/prostorny-hezky-s...   False     True     True   \n",
       "https://www.prazskereality.cz/exkluzivne-nabizi...   False     True     True   \n",
       "https://www.prazskereality.cz/nabizim-k-prodeji...   False     True     True   \n",
       "https://www.prazskereality.cz/prodej-luxusniho-...   False     True     True   \n",
       "https://www.prazskereality.cz/v-soucasne-situac...   False    False     True   \n",
       "\n",
       "                                                   floor penb terrace  \n",
       "_id                                                                    \n",
       "https://www.prazskereality.cz/prostorny-hezky-s...     2    G   False  \n",
       "https://www.prazskereality.cz/exkluzivne-nabizi...     6    G   False  \n",
       "https://www.prazskereality.cz/nabizim-k-prodeji...     3  NaN   False  \n",
       "https://www.prazskereality.cz/prodej-luxusniho-...     2  NaN    True  \n",
       "https://www.prazskereality.cz/v-soucasne-situac...     3  NaN   False  "
      ]
     },
     "execution_count": 407,
     "metadata": {},
     "output_type": "execute_result"
    }
   ],
   "source": [
    "df.head()"
   ]
  },
  {
   "cell_type": "code",
   "execution_count": 408,
   "metadata": {},
   "outputs": [],
   "source": [
    "df['penb'].fillna('G', inplace = True)"
   ]
  },
  {
   "cell_type": "code",
   "execution_count": 409,
   "metadata": {},
   "outputs": [
    {
     "data": {
      "text/plain": [
       "cihlová             2251\n",
       "smíšená              691\n",
       "panelová             417\n",
       "Cihla                260\n",
       "skeletová            251\n",
       "Cihlová              184\n",
       "Panel                112\n",
       "Panelová              54\n",
       "Ostatní               40\n",
       "Smíšená               39\n",
       "Skeletová             14\n",
       "Nízkoenergetický      14\n",
       "kamenná                3\n",
       "montovaná              2\n",
       "dřevěná                1\n",
       "Kamenná                1\n",
       "Montovaná              1\n",
       "Name: building_type, dtype: int64"
      ]
     },
     "execution_count": 409,
     "metadata": {},
     "output_type": "execute_result"
    }
   ],
   "source": [
    "df.building_type.value_counts()"
   ]
  },
  {
   "cell_type": "code",
   "execution_count": 410,
   "metadata": {},
   "outputs": [],
   "source": [
    "df['building_type'] = df['building_type'].replace('Cihla', 'cihlová')\n",
    "df['building_type'] = df['building_type'].replace('Cihlová', 'cihlová')\n",
    "df['building_type'] = df['building_type'].replace('Panel', 'panelová')\n",
    "df['building_type'] = df['building_type'].replace('Panelová', 'panelová')\n",
    "df['building_type'] = df['building_type'].replace('Smíšená', 'smíšená')\n",
    "df['building_type'] = df['building_type'].replace('Skeletová', 'skeletová')\n",
    "df['building_type'] = df['building_type'].replace('Kamenná', 'kamenná')\n",
    "df['building_type'] = df['building_type'].replace('Montovaná', 'montovaná')"
   ]
  },
  {
   "cell_type": "code",
   "execution_count": 411,
   "metadata": {},
   "outputs": [
    {
     "data": {
      "text/plain": [
       "cihlová             2695\n",
       "smíšená              730\n",
       "panelová             583\n",
       "skeletová            265\n",
       "Ostatní               40\n",
       "Nízkoenergetický      14\n",
       "kamenná                4\n",
       "montovaná              3\n",
       "dřevěná                1\n",
       "Name: building_type, dtype: int64"
      ]
     },
     "execution_count": 411,
     "metadata": {},
     "output_type": "execute_result"
    }
   ],
   "source": [
    "df.building_type.value_counts()"
   ]
  },
  {
   "cell_type": "code",
   "execution_count": 412,
   "metadata": {},
   "outputs": [],
   "source": [
    "#df['rooms'] = df['size'].apply(lambda x: str(x)[:1])"
   ]
  },
  {
   "cell_type": "code",
   "execution_count": 413,
   "metadata": {},
   "outputs": [],
   "source": [
    "def get_number_of_rooms(row):\n",
    "    if 'Garsoniéra' in str(row):\n",
    "        n_rooms = 1\n",
    "    elif 'Ostatní' in str(row):\n",
    "        n_rooms = np.nan\n",
    "    else:\n",
    "        n_rooms = str(row)[:1]\n",
    "    return n_rooms"
   ]
  },
  {
   "cell_type": "code",
   "execution_count": 414,
   "metadata": {
    "scrolled": true
   },
   "outputs": [],
   "source": [
    "df.dropna(subset = ['size'], inplace = True)"
   ]
  },
  {
   "cell_type": "code",
   "execution_count": 415,
   "metadata": {},
   "outputs": [],
   "source": [
    "df['rooms'] = df['size'].apply(get_number_of_rooms)"
   ]
  },
  {
   "cell_type": "code",
   "execution_count": 416,
   "metadata": {},
   "outputs": [],
   "source": [
    "df['kitchen'] = df['size'].apply(lambda x: False if 'kk' in str(x) else True)"
   ]
  },
  {
   "cell_type": "code",
   "execution_count": 417,
   "metadata": {},
   "outputs": [
    {
     "data": {
      "text/html": [
       "<div>\n",
       "<style scoped>\n",
       "    .dataframe tbody tr th:only-of-type {\n",
       "        vertical-align: middle;\n",
       "    }\n",
       "\n",
       "    .dataframe tbody tr th {\n",
       "        vertical-align: top;\n",
       "    }\n",
       "\n",
       "    .dataframe thead th {\n",
       "        text-align: right;\n",
       "    }\n",
       "</style>\n",
       "<table border=\"1\" class=\"dataframe\">\n",
       "  <thead>\n",
       "    <tr style=\"text-align: right;\">\n",
       "      <th></th>\n",
       "      <th>kitchen</th>\n",
       "      <th>rooms</th>\n",
       "      <th>size</th>\n",
       "    </tr>\n",
       "    <tr>\n",
       "      <th>_id</th>\n",
       "      <th></th>\n",
       "      <th></th>\n",
       "      <th></th>\n",
       "    </tr>\n",
       "  </thead>\n",
       "  <tbody>\n",
       "    <tr>\n",
       "      <th>https://www.prazskereality.cz/prostorny-hezky-svetly-byt-2-1-v-ov-umisteny-ve-2-np-cin-7386380.html</th>\n",
       "      <td>True</td>\n",
       "      <td>2</td>\n",
       "      <td>2+1</td>\n",
       "    </tr>\n",
       "    <tr>\n",
       "      <th>https://www.prazskereality.cz/exkluzivne-nabizime-klimatizovany-byt-4-kk-umisteny-v-5--6726946.html</th>\n",
       "      <td>False</td>\n",
       "      <td>4</td>\n",
       "      <td>4+kk</td>\n",
       "    </tr>\n",
       "    <tr>\n",
       "      <th>https://www.prazskereality.cz/nabizim-k-prodeji-velmi-pekny-zrekonstruovany-vybaveny-b-7358790.html</th>\n",
       "      <td>True</td>\n",
       "      <td>3</td>\n",
       "      <td>3+1</td>\n",
       "    </tr>\n",
       "    <tr>\n",
       "      <th>https://www.prazskereality.cz/prodej-luxusniho-mezonetoveho-bytu-5-1-s-moznosti-odpoct-7384977.html</th>\n",
       "      <td>True</td>\n",
       "      <td>5</td>\n",
       "      <td>5+1</td>\n",
       "    </tr>\n",
       "    <tr>\n",
       "      <th>https://www.prazskereality.cz/v-soucasne-situaci-nabizime-bezne-prohlidky-s-rouskou-a--7358850.html</th>\n",
       "      <td>False</td>\n",
       "      <td>3</td>\n",
       "      <td>3+kk</td>\n",
       "    </tr>\n",
       "  </tbody>\n",
       "</table>\n",
       "</div>"
      ],
      "text/plain": [
       "                                                    kitchen rooms  size\n",
       "_id                                                                    \n",
       "https://www.prazskereality.cz/prostorny-hezky-s...     True     2   2+1\n",
       "https://www.prazskereality.cz/exkluzivne-nabizi...    False     4  4+kk\n",
       "https://www.prazskereality.cz/nabizim-k-prodeji...     True     3   3+1\n",
       "https://www.prazskereality.cz/prodej-luxusniho-...     True     5   5+1\n",
       "https://www.prazskereality.cz/v-soucasne-situac...    False     3  3+kk"
      ]
     },
     "execution_count": 417,
     "metadata": {},
     "output_type": "execute_result"
    }
   ],
   "source": [
    "df[['kitchen', 'rooms', 'size']].head()"
   ]
  },
  {
   "cell_type": "code",
   "execution_count": 418,
   "metadata": {},
   "outputs": [
    {
     "data": {
      "text/plain": [
       "osobní        3345\n",
       "Osobní         387\n",
       "družstevní     219\n",
       "Družstevní      38\n",
       "s.r.o.          16\n",
       "jiný            16\n",
       "Ostatní          1\n",
       "Name: owner, dtype: int64"
      ]
     },
     "execution_count": 418,
     "metadata": {},
     "output_type": "execute_result"
    }
   ],
   "source": [
    "df.owner.value_counts()"
   ]
  },
  {
   "cell_type": "code",
   "execution_count": 419,
   "metadata": {},
   "outputs": [],
   "source": [
    "df['owner'] = df['owner'].replace('Osobní', 'osobní')\n",
    "df['owner'] = df['owner'].replace('Družstevní', 'družstevní')\n",
    "df['owner'] = df['owner'].replace('Ostatní', 'jiný')"
   ]
  },
  {
   "cell_type": "code",
   "execution_count": 420,
   "metadata": {},
   "outputs": [],
   "source": [
    "df.drop('size', inplace = True, axis = 1)"
   ]
  },
  {
   "cell_type": "code",
   "execution_count": 421,
   "metadata": {},
   "outputs": [],
   "source": [
    "for column in ['basement', 'terrace', 'balcony', 'elevator']:\n",
    "    df[column].fillna(False, inplace = True)"
   ]
  },
  {
   "cell_type": "code",
   "execution_count": 422,
   "metadata": {},
   "outputs": [
    {
     "data": {
      "text/html": [
       "<div>\n",
       "<style scoped>\n",
       "    .dataframe tbody tr th:only-of-type {\n",
       "        vertical-align: middle;\n",
       "    }\n",
       "\n",
       "    .dataframe tbody tr th {\n",
       "        vertical-align: top;\n",
       "    }\n",
       "\n",
       "    .dataframe thead th {\n",
       "        text-align: right;\n",
       "    }\n",
       "</style>\n",
       "<table border=\"1\" class=\"dataframe\">\n",
       "  <thead>\n",
       "    <tr style=\"text-align: right;\">\n",
       "      <th></th>\n",
       "      <th>price</th>\n",
       "      <th>area</th>\n",
       "      <th>owner</th>\n",
       "      <th>building_type</th>\n",
       "      <th>balcony</th>\n",
       "      <th>basement</th>\n",
       "      <th>elevator</th>\n",
       "      <th>floor</th>\n",
       "      <th>penb</th>\n",
       "      <th>terrace</th>\n",
       "      <th>rooms</th>\n",
       "      <th>kitchen</th>\n",
       "    </tr>\n",
       "    <tr>\n",
       "      <th>_id</th>\n",
       "      <th></th>\n",
       "      <th></th>\n",
       "      <th></th>\n",
       "      <th></th>\n",
       "      <th></th>\n",
       "      <th></th>\n",
       "      <th></th>\n",
       "      <th></th>\n",
       "      <th></th>\n",
       "      <th></th>\n",
       "      <th></th>\n",
       "      <th></th>\n",
       "    </tr>\n",
       "  </thead>\n",
       "  <tbody>\n",
       "    <tr>\n",
       "      <th>https://www.prazskereality.cz/prostorny-hezky-svetly-byt-2-1-v-ov-umisteny-ve-2-np-cin-7386380.html</th>\n",
       "      <td>7700000</td>\n",
       "      <td>77.0</td>\n",
       "      <td>osobní</td>\n",
       "      <td>cihlová</td>\n",
       "      <td>False</td>\n",
       "      <td>True</td>\n",
       "      <td>True</td>\n",
       "      <td>2</td>\n",
       "      <td>G</td>\n",
       "      <td>False</td>\n",
       "      <td>2</td>\n",
       "      <td>True</td>\n",
       "    </tr>\n",
       "    <tr>\n",
       "      <th>https://www.prazskereality.cz/exkluzivne-nabizime-klimatizovany-byt-4-kk-umisteny-v-5--6726946.html</th>\n",
       "      <td>19500000</td>\n",
       "      <td>151.0</td>\n",
       "      <td>osobní</td>\n",
       "      <td>cihlová</td>\n",
       "      <td>False</td>\n",
       "      <td>True</td>\n",
       "      <td>True</td>\n",
       "      <td>6</td>\n",
       "      <td>G</td>\n",
       "      <td>False</td>\n",
       "      <td>4</td>\n",
       "      <td>False</td>\n",
       "    </tr>\n",
       "    <tr>\n",
       "      <th>https://www.prazskereality.cz/nabizim-k-prodeji-velmi-pekny-zrekonstruovany-vybaveny-b-7358790.html</th>\n",
       "      <td>6950000</td>\n",
       "      <td>74.0</td>\n",
       "      <td>osobní</td>\n",
       "      <td>panelová</td>\n",
       "      <td>False</td>\n",
       "      <td>True</td>\n",
       "      <td>True</td>\n",
       "      <td>3</td>\n",
       "      <td>G</td>\n",
       "      <td>False</td>\n",
       "      <td>3</td>\n",
       "      <td>True</td>\n",
       "    </tr>\n",
       "    <tr>\n",
       "      <th>https://www.prazskereality.cz/prodej-luxusniho-mezonetoveho-bytu-5-1-s-moznosti-odpoct-7384977.html</th>\n",
       "      <td>29900000</td>\n",
       "      <td>277.0</td>\n",
       "      <td>osobní</td>\n",
       "      <td>skeletová</td>\n",
       "      <td>False</td>\n",
       "      <td>True</td>\n",
       "      <td>True</td>\n",
       "      <td>2</td>\n",
       "      <td>G</td>\n",
       "      <td>True</td>\n",
       "      <td>5</td>\n",
       "      <td>True</td>\n",
       "    </tr>\n",
       "    <tr>\n",
       "      <th>https://www.prazskereality.cz/v-soucasne-situaci-nabizime-bezne-prohlidky-s-rouskou-a--7358850.html</th>\n",
       "      <td>12500000</td>\n",
       "      <td>71.0</td>\n",
       "      <td>osobní</td>\n",
       "      <td>skeletová</td>\n",
       "      <td>False</td>\n",
       "      <td>False</td>\n",
       "      <td>True</td>\n",
       "      <td>3</td>\n",
       "      <td>G</td>\n",
       "      <td>False</td>\n",
       "      <td>3</td>\n",
       "      <td>False</td>\n",
       "    </tr>\n",
       "  </tbody>\n",
       "</table>\n",
       "</div>"
      ],
      "text/plain": [
       "                                                       price   area   owner  \\\n",
       "_id                                                                           \n",
       "https://www.prazskereality.cz/prostorny-hezky-s...   7700000   77.0  osobní   \n",
       "https://www.prazskereality.cz/exkluzivne-nabizi...  19500000  151.0  osobní   \n",
       "https://www.prazskereality.cz/nabizim-k-prodeji...   6950000   74.0  osobní   \n",
       "https://www.prazskereality.cz/prodej-luxusniho-...  29900000  277.0  osobní   \n",
       "https://www.prazskereality.cz/v-soucasne-situac...  12500000   71.0  osobní   \n",
       "\n",
       "                                                   building_type  balcony  \\\n",
       "_id                                                                         \n",
       "https://www.prazskereality.cz/prostorny-hezky-s...       cihlová    False   \n",
       "https://www.prazskereality.cz/exkluzivne-nabizi...       cihlová    False   \n",
       "https://www.prazskereality.cz/nabizim-k-prodeji...      panelová    False   \n",
       "https://www.prazskereality.cz/prodej-luxusniho-...     skeletová    False   \n",
       "https://www.prazskereality.cz/v-soucasne-situac...     skeletová    False   \n",
       "\n",
       "                                                    basement  elevator floor  \\\n",
       "_id                                                                            \n",
       "https://www.prazskereality.cz/prostorny-hezky-s...      True      True     2   \n",
       "https://www.prazskereality.cz/exkluzivne-nabizi...      True      True     6   \n",
       "https://www.prazskereality.cz/nabizim-k-prodeji...      True      True     3   \n",
       "https://www.prazskereality.cz/prodej-luxusniho-...      True      True     2   \n",
       "https://www.prazskereality.cz/v-soucasne-situac...     False      True     3   \n",
       "\n",
       "                                                   penb  terrace rooms  \\\n",
       "_id                                                                      \n",
       "https://www.prazskereality.cz/prostorny-hezky-s...    G    False     2   \n",
       "https://www.prazskereality.cz/exkluzivne-nabizi...    G    False     4   \n",
       "https://www.prazskereality.cz/nabizim-k-prodeji...    G    False     3   \n",
       "https://www.prazskereality.cz/prodej-luxusniho-...    G     True     5   \n",
       "https://www.prazskereality.cz/v-soucasne-situac...    G    False     3   \n",
       "\n",
       "                                                    kitchen  \n",
       "_id                                                          \n",
       "https://www.prazskereality.cz/prostorny-hezky-s...     True  \n",
       "https://www.prazskereality.cz/exkluzivne-nabizi...    False  \n",
       "https://www.prazskereality.cz/nabizim-k-prodeji...     True  \n",
       "https://www.prazskereality.cz/prodej-luxusniho-...     True  \n",
       "https://www.prazskereality.cz/v-soucasne-situac...    False  "
      ]
     },
     "execution_count": 422,
     "metadata": {},
     "output_type": "execute_result"
    }
   ],
   "source": [
    "df.head()"
   ]
  },
  {
   "cell_type": "code",
   "execution_count": 423,
   "metadata": {},
   "outputs": [
    {
     "data": {
      "text/plain": [
       "G                            1263\n",
       "B                             730\n",
       "B (vyhl. č. 78/2013 Sb.)      557\n",
       "G (vyhl. č. 78/2013 Sb.)      477\n",
       "C                             414\n",
       "D                             226\n",
       "C (vyhl. č. 78/2013 Sb.)      148\n",
       "G (vyhl. č. 148/2007 Sb.)     126\n",
       "E                             104\n",
       "D (vyhl. č. 78/2013 Sb.)       73\n",
       "C (vyhl. č. 148/2007 Sb.)      51\n",
       "B (vyhl. č. 148/2007 Sb.)      34\n",
       "E (vyhl. č. 78/2013 Sb.)       22\n",
       "F                              21\n",
       "A                              20\n",
       "A (vyhl. č. 78/2013 Sb.)       14\n",
       "D (vyhl. č. 148/2007 Sb.)      13\n",
       "F (vyhl. č. 78/2013 Sb.)        8\n",
       "E (vyhl. č. 148/2007 Sb.)       5\n",
       "F (vyhl. č. 148/2007 Sb.)       5\n",
       "Name: penb, dtype: int64"
      ]
     },
     "execution_count": 423,
     "metadata": {},
     "output_type": "execute_result"
    }
   ],
   "source": [
    "df['penb'].value_counts()"
   ]
  },
  {
   "cell_type": "code",
   "execution_count": 424,
   "metadata": {},
   "outputs": [],
   "source": [
    "df['penb'] = df['penb'].apply(lambda x: str(x)[:1])"
   ]
  },
  {
   "cell_type": "code",
   "execution_count": 425,
   "metadata": {},
   "outputs": [
    {
     "data": {
      "text/plain": [
       "G    1866\n",
       "B    1321\n",
       "C     613\n",
       "D     312\n",
       "E     131\n",
       "F      34\n",
       "A      34\n",
       "Name: penb, dtype: int64"
      ]
     },
     "execution_count": 425,
     "metadata": {},
     "output_type": "execute_result"
    }
   ],
   "source": [
    "df.penb.value_counts()"
   ]
  },
  {
   "cell_type": "code",
   "execution_count": 426,
   "metadata": {},
   "outputs": [
    {
     "data": {
      "text/plain": [
       "1. patro (2. NP)                                 649\n",
       "2. patro (3. NP)                                 602\n",
       "3. patro (4. NP)                                 459\n",
       "4. patro (5. NP)                                 415\n",
       "přízemí (1. NP = nadzemní podlaží)               307\n",
       "5. patro (6. NP)                                 292\n",
       "6. patro (7. NP)                                 177\n",
       "2                                                108\n",
       "2.0                                               90\n",
       "3                                                 88\n",
       "1                                                 88\n",
       "1.0                                               87\n",
       "7. patro (8. NP)                                  85\n",
       "4                                                 77\n",
       "3.0                                               60\n",
       "6                                                 59\n",
       "4.0                                               51\n",
       "5                                                 47\n",
       "8. patro (9. NP)                                  42\n",
       "5.0                                               41\n",
       "zvýšené přízemí (1. NP)                           41\n",
       "9. patro (10. NP)                                 40\n",
       "10. patro (11. NP)                                30\n",
       "snížené přízemí (1. PP = podzemní podlaží)        28\n",
       "7.0                                               23\n",
       "7                                                 23\n",
       "-1. patro, suterén (1. PP = podzemní podlaží)     23\n",
       "6.0                                               20\n",
       "11. patro (12. NP)                                17\n",
       "8                                                 14\n",
       "8.0                                               10\n",
       "9.0                                               10\n",
       "-1.0                                               9\n",
       "12. patro (13. NP)                                 7\n",
       "10.0                                               4\n",
       "13.0                                               4\n",
       "12.0                                               3\n",
       "9                                                  3\n",
       "14. patro (15. NP)                                 3\n",
       "15. patro (16. NP)                                 3\n",
       "18. patro (19. NP)                                 2\n",
       "11.0                                               1\n",
       "13. patro (14. NP)                                 1\n",
       "12                                                 1\n",
       "13                                                 1\n",
       "11                                                 1\n",
       "21.0                                               1\n",
       "19. patro (20. NP)                                 1\n",
       "15                                                 1\n",
       "10                                                 1\n",
       "20. patro a vyšší                                  1\n",
       "Name: floor, dtype: int64"
      ]
     },
     "execution_count": 426,
     "metadata": {},
     "output_type": "execute_result"
    }
   ],
   "source": [
    "df['floor'].value_counts()"
   ]
  },
  {
   "cell_type": "code",
   "execution_count": 427,
   "metadata": {},
   "outputs": [],
   "source": [
    "def get_floor_number(row):\n",
    "    import re\n",
    "    floor = re.search(r'([-\\d]+)', str(row))\n",
    "    if floor is not None:\n",
    "        floor = floor[0]\n",
    "    return floor    "
   ]
  },
  {
   "cell_type": "code",
   "execution_count": 428,
   "metadata": {},
   "outputs": [],
   "source": [
    "df['floor'] = df['floor'].apply(get_floor_number)"
   ]
  },
  {
   "cell_type": "code",
   "execution_count": 429,
   "metadata": {},
   "outputs": [
    {
     "data": {
      "text/plain": [
       "_id\n",
       "https://www.prazskereality.cz/prostorny-hezky-svetly-byt-2-1-v-ov-umisteny-ve-2-np-cin-7386380.html    2\n",
       "https://www.prazskereality.cz/exkluzivne-nabizime-klimatizovany-byt-4-kk-umisteny-v-5--6726946.html    4\n",
       "https://www.prazskereality.cz/nabizim-k-prodeji-velmi-pekny-zrekonstruovany-vybaveny-b-7358790.html    3\n",
       "https://www.prazskereality.cz/prodej-luxusniho-mezonetoveho-bytu-5-1-s-moznosti-odpoct-7384977.html    5\n",
       "https://www.prazskereality.cz/v-soucasne-situaci-nabizime-bezne-prohlidky-s-rouskou-a--7358850.html    3\n",
       "                                                                                                      ..\n",
       "https://www.bezrealitky.cz/nemovitosti-byty-domy/554869-nabidka-prodej-bytu                            3\n",
       "https://www.bezrealitky.cz/nemovitosti-byty-domy/647801-nabidka-prodej-bytu-vinohradska-praha          2\n",
       "https://www.bezrealitky.cz/nemovitosti-byty-domy/460989-nabidka-prodej-bytu-olbrachtova-praha-4        2\n",
       "https://www.bezrealitky.cz/nemovitosti-byty-domy/460769-nabidka-prodej-bytu-narodnich-hrdinu-praha     2\n",
       "https://www.bezrealitky.cz/nemovitosti-byty-domy/386925-nabidka-prodej-bytu-zateckych-praha-4          3\n",
       "Name: rooms, Length: 4311, dtype: object"
      ]
     },
     "execution_count": 429,
     "metadata": {},
     "output_type": "execute_result"
    }
   ],
   "source": [
    "df.rooms"
   ]
  },
  {
   "cell_type": "code",
   "execution_count": 430,
   "metadata": {},
   "outputs": [],
   "source": [
    "df_checkpoint = df.copy()"
   ]
  },
  {
   "cell_type": "code",
   "execution_count": null,
   "metadata": {},
   "outputs": [],
   "source": []
  },
  {
   "cell_type": "code",
   "execution_count": 431,
   "metadata": {
    "scrolled": true
   },
   "outputs": [
    {
     "data": {
      "text/plain": [
       "2    1516\n",
       "3    1343\n",
       "1     825\n",
       "4     473\n",
       "5     120\n",
       "6      22\n",
       "1       6\n",
       "7       4\n",
       "Name: rooms, dtype: int64"
      ]
     },
     "execution_count": 431,
     "metadata": {},
     "output_type": "execute_result"
    }
   ],
   "source": [
    "df['rooms'].value_counts()"
   ]
  },
  {
   "cell_type": "code",
   "execution_count": 432,
   "metadata": {},
   "outputs": [
    {
     "data": {
      "text/html": [
       "<div>\n",
       "<style scoped>\n",
       "    .dataframe tbody tr th:only-of-type {\n",
       "        vertical-align: middle;\n",
       "    }\n",
       "\n",
       "    .dataframe tbody tr th {\n",
       "        vertical-align: top;\n",
       "    }\n",
       "\n",
       "    .dataframe thead th {\n",
       "        text-align: right;\n",
       "    }\n",
       "</style>\n",
       "<table border=\"1\" class=\"dataframe\">\n",
       "  <thead>\n",
       "    <tr style=\"text-align: right;\">\n",
       "      <th></th>\n",
       "      <th>price</th>\n",
       "      <th>area</th>\n",
       "      <th>owner</th>\n",
       "      <th>building_type</th>\n",
       "      <th>balcony</th>\n",
       "      <th>basement</th>\n",
       "      <th>elevator</th>\n",
       "      <th>floor</th>\n",
       "      <th>penb</th>\n",
       "      <th>terrace</th>\n",
       "      <th>rooms</th>\n",
       "      <th>kitchen</th>\n",
       "    </tr>\n",
       "    <tr>\n",
       "      <th>_id</th>\n",
       "      <th></th>\n",
       "      <th></th>\n",
       "      <th></th>\n",
       "      <th></th>\n",
       "      <th></th>\n",
       "      <th></th>\n",
       "      <th></th>\n",
       "      <th></th>\n",
       "      <th></th>\n",
       "      <th></th>\n",
       "      <th></th>\n",
       "      <th></th>\n",
       "    </tr>\n",
       "  </thead>\n",
       "  <tbody>\n",
       "    <tr>\n",
       "      <th>https://reality.idnes.cz/detail/prodej/byt/praha-20-k-berance/6059f8dcb50f835ad5172a43/?s-et=flat&amp;s-ot=sale&amp;s-l=VUSC-19</th>\n",
       "      <td>9490000</td>\n",
       "      <td>NaN</td>\n",
       "      <td>osobní</td>\n",
       "      <td>cihlová</td>\n",
       "      <td>True</td>\n",
       "      <td>True</td>\n",
       "      <td>False</td>\n",
       "      <td>1</td>\n",
       "      <td>G</td>\n",
       "      <td>False</td>\n",
       "      <td>3</td>\n",
       "      <td>False</td>\n",
       "    </tr>\n",
       "    <tr>\n",
       "      <th>https://reality.idnes.cz/detail/prodej/byt/praha-8-sokolovska/6052651ac6965d1062537502/?s-et=flat&amp;s-ot=sale&amp;s-l=VUSC-19</th>\n",
       "      <td>8990000</td>\n",
       "      <td>NaN</td>\n",
       "      <td>družstevní</td>\n",
       "      <td>cihlová</td>\n",
       "      <td>False</td>\n",
       "      <td>True</td>\n",
       "      <td>False</td>\n",
       "      <td>5</td>\n",
       "      <td>G</td>\n",
       "      <td>False</td>\n",
       "      <td>3</td>\n",
       "      <td>True</td>\n",
       "    </tr>\n",
       "    <tr>\n",
       "      <th>https://reality.idnes.cz/detail/prodej/byt/praha-15-v-osikach/605a148d9f52e15f1a135582/?s-et=flat&amp;s-ot=sale&amp;s-l=VUSC-19</th>\n",
       "      <td>6980000</td>\n",
       "      <td>NaN</td>\n",
       "      <td>osobní</td>\n",
       "      <td>cihlová</td>\n",
       "      <td>False</td>\n",
       "      <td>False</td>\n",
       "      <td>False</td>\n",
       "      <td>1</td>\n",
       "      <td>G</td>\n",
       "      <td>False</td>\n",
       "      <td>2</td>\n",
       "      <td>False</td>\n",
       "    </tr>\n",
       "    <tr>\n",
       "      <th>https://reality.idnes.cz/detail/prodej/byt/praha-3-zelenky-hajskeho/5ff62af8e542f56cc23942f2/?s-et=flat&amp;s-ot=sale&amp;s-l=VUSC-19</th>\n",
       "      <td>8490000</td>\n",
       "      <td>NaN</td>\n",
       "      <td>osobní</td>\n",
       "      <td>cihlová</td>\n",
       "      <td>True</td>\n",
       "      <td>True</td>\n",
       "      <td>True</td>\n",
       "      <td>2</td>\n",
       "      <td>G</td>\n",
       "      <td>False</td>\n",
       "      <td>2</td>\n",
       "      <td>False</td>\n",
       "    </tr>\n",
       "    <tr>\n",
       "      <th>https://reality.idnes.cz/detail/prodej/byt/praha-5-plzenska/5ffeb097df1dab36b56b2052/?s-et=flat&amp;s-ot=sale&amp;s-l=VUSC-19</th>\n",
       "      <td>4580800</td>\n",
       "      <td>NaN</td>\n",
       "      <td>osobní</td>\n",
       "      <td>NaN</td>\n",
       "      <td>False</td>\n",
       "      <td>True</td>\n",
       "      <td>True</td>\n",
       "      <td>None</td>\n",
       "      <td>G</td>\n",
       "      <td>False</td>\n",
       "      <td>2</td>\n",
       "      <td>False</td>\n",
       "    </tr>\n",
       "    <tr>\n",
       "      <th>https://reality.idnes.cz/detail/prodej/byt/praha-3-jeseniova/5fbaa7fc73d5e019803c83b2/?s-et=flat&amp;s-ot=sale&amp;s-l=VUSC-19</th>\n",
       "      <td>7490000</td>\n",
       "      <td>NaN</td>\n",
       "      <td>osobní</td>\n",
       "      <td>cihlová</td>\n",
       "      <td>False</td>\n",
       "      <td>True</td>\n",
       "      <td>False</td>\n",
       "      <td>2</td>\n",
       "      <td>E</td>\n",
       "      <td>False</td>\n",
       "      <td>3</td>\n",
       "      <td>True</td>\n",
       "    </tr>\n",
       "  </tbody>\n",
       "</table>\n",
       "</div>"
      ],
      "text/plain": [
       "                                                      price  area       owner  \\\n",
       "_id                                                                             \n",
       "https://reality.idnes.cz/detail/prodej/byt/prah...  9490000   NaN      osobní   \n",
       "https://reality.idnes.cz/detail/prodej/byt/prah...  8990000   NaN  družstevní   \n",
       "https://reality.idnes.cz/detail/prodej/byt/prah...  6980000   NaN      osobní   \n",
       "https://reality.idnes.cz/detail/prodej/byt/prah...  8490000   NaN      osobní   \n",
       "https://reality.idnes.cz/detail/prodej/byt/prah...  4580800   NaN      osobní   \n",
       "https://reality.idnes.cz/detail/prodej/byt/prah...  7490000   NaN      osobní   \n",
       "\n",
       "                                                   building_type  balcony  \\\n",
       "_id                                                                         \n",
       "https://reality.idnes.cz/detail/prodej/byt/prah...       cihlová     True   \n",
       "https://reality.idnes.cz/detail/prodej/byt/prah...       cihlová    False   \n",
       "https://reality.idnes.cz/detail/prodej/byt/prah...       cihlová    False   \n",
       "https://reality.idnes.cz/detail/prodej/byt/prah...       cihlová     True   \n",
       "https://reality.idnes.cz/detail/prodej/byt/prah...           NaN    False   \n",
       "https://reality.idnes.cz/detail/prodej/byt/prah...       cihlová    False   \n",
       "\n",
       "                                                    basement  elevator floor  \\\n",
       "_id                                                                            \n",
       "https://reality.idnes.cz/detail/prodej/byt/prah...      True     False     1   \n",
       "https://reality.idnes.cz/detail/prodej/byt/prah...      True     False     5   \n",
       "https://reality.idnes.cz/detail/prodej/byt/prah...     False     False     1   \n",
       "https://reality.idnes.cz/detail/prodej/byt/prah...      True      True     2   \n",
       "https://reality.idnes.cz/detail/prodej/byt/prah...      True      True  None   \n",
       "https://reality.idnes.cz/detail/prodej/byt/prah...      True     False     2   \n",
       "\n",
       "                                                   penb  terrace rooms  \\\n",
       "_id                                                                      \n",
       "https://reality.idnes.cz/detail/prodej/byt/prah...    G    False     3   \n",
       "https://reality.idnes.cz/detail/prodej/byt/prah...    G    False     3   \n",
       "https://reality.idnes.cz/detail/prodej/byt/prah...    G    False     2   \n",
       "https://reality.idnes.cz/detail/prodej/byt/prah...    G    False     2   \n",
       "https://reality.idnes.cz/detail/prodej/byt/prah...    G    False     2   \n",
       "https://reality.idnes.cz/detail/prodej/byt/prah...    E    False     3   \n",
       "\n",
       "                                                    kitchen  \n",
       "_id                                                          \n",
       "https://reality.idnes.cz/detail/prodej/byt/prah...    False  \n",
       "https://reality.idnes.cz/detail/prodej/byt/prah...     True  \n",
       "https://reality.idnes.cz/detail/prodej/byt/prah...    False  \n",
       "https://reality.idnes.cz/detail/prodej/byt/prah...    False  \n",
       "https://reality.idnes.cz/detail/prodej/byt/prah...    False  \n",
       "https://reality.idnes.cz/detail/prodej/byt/prah...     True  "
      ]
     },
     "execution_count": 432,
     "metadata": {},
     "output_type": "execute_result"
    }
   ],
   "source": [
    "df[df.area.isna()]"
   ]
  },
  {
   "cell_type": "code",
   "execution_count": 433,
   "metadata": {},
   "outputs": [],
   "source": [
    "df.dropna(subset = ['owner', 'building_type'], inplace = True)"
   ]
  },
  {
   "cell_type": "code",
   "execution_count": 434,
   "metadata": {},
   "outputs": [
    {
     "data": {
      "text/plain": [
       "price              0\n",
       "area               5\n",
       "owner              0\n",
       "building_type      0\n",
       "balcony            0\n",
       "basement           0\n",
       "elevator           0\n",
       "floor            157\n",
       "penb               0\n",
       "terrace            0\n",
       "rooms              2\n",
       "kitchen            0\n",
       "dtype: int64"
      ]
     },
     "execution_count": 434,
     "metadata": {},
     "output_type": "execute_result"
    }
   ],
   "source": [
    "df.isna().sum()"
   ]
  },
  {
   "cell_type": "code",
   "execution_count": 435,
   "metadata": {},
   "outputs": [],
   "source": [
    "from sklearn.model_selection import train_test_split\n",
    "\n",
    "y = df.pop('price')\n",
    "X = df\n",
    "\n",
    "X_train, X_test, y_train, y_test = train_test_split(X, y, test_size=0.2, random_state=42)"
   ]
  },
  {
   "cell_type": "code",
   "execution_count": 436,
   "metadata": {},
   "outputs": [],
   "source": [
    "from sklearn.pipeline import Pipeline\n",
    "from sklearn.preprocessing import StandardScaler\n",
    "from sklearn.impute import SimpleImputer\n",
    "from sklearn.preprocessing import OneHotEncoder\n",
    "from sklearn.compose import ColumnTransformer\n",
    "\n",
    "numerical_cols = ['area', 'rooms', 'floor']\n",
    "numeric_transformer = Pipeline(steps=[\n",
    "    ('imputer', SimpleImputer(strategy='median')),\n",
    "    ('scaler', StandardScaler())])\n",
    "\n",
    "categorical_cols = ['owner', 'building_type', 'penb']\n",
    "categorical_transformer = OneHotEncoder(handle_unknown='ignore')\n",
    "\n",
    "preprocessor = ColumnTransformer(\n",
    "    transformers=[\n",
    "        ('num', numeric_transformer, numerical_cols),\n",
    "        ('cat', categorical_transformer, categorical_cols)])"
   ]
  },
  {
   "cell_type": "code",
   "execution_count": 437,
   "metadata": {},
   "outputs": [
    {
     "name": "stdout",
     "output_type": "stream",
     "text": [
      "model score: 0.467\n"
     ]
    }
   ],
   "source": [
    "from sklearn.ensemble import RandomForestRegressor\n",
    "\n",
    "forest = RandomForestRegressor(random_state = 42, n_estimators = 250)\n",
    "\n",
    "clf = Pipeline(steps=[('preprocessor', preprocessor),\n",
    "                      ('regressor', forest)])\n",
    "\n",
    "\n",
    "clf.fit(X_train, y_train)\n",
    "print(\"model score: %.3f\" % clf.score(X_test, y_test))"
   ]
  },
  {
   "cell_type": "code",
   "execution_count": 468,
   "metadata": {},
   "outputs": [],
   "source": [
    "from sklearn.metrics import mean_squared_error"
   ]
  },
  {
   "cell_type": "code",
   "execution_count": 469,
   "metadata": {},
   "outputs": [
    {
     "data": {
      "text/plain": [
       "20894615854084.766"
      ]
     },
     "execution_count": 469,
     "metadata": {},
     "output_type": "execute_result"
    }
   ],
   "source": [
    "mean_squared_error(y_pred, y_test)"
   ]
  },
  {
   "cell_type": "code",
   "execution_count": 470,
   "metadata": {},
   "outputs": [
    {
     "data": {
      "text/plain": [
       "4571062.880128074"
      ]
     },
     "execution_count": 470,
     "metadata": {},
     "output_type": "execute_result"
    }
   ],
   "source": [
    "mean_squared_error(y_pred, y_test, squared = False)"
   ]
  },
  {
   "cell_type": "code",
   "execution_count": 467,
   "metadata": {},
   "outputs": [
    {
     "data": {
      "text/plain": [
       "Index(['area', 'owner', 'building_type', 'balcony', 'basement', 'elevator',\n",
       "       'floor', 'penb', 'terrace', 'rooms', 'kitchen'],\n",
       "      dtype='object')"
      ]
     },
     "execution_count": 467,
     "metadata": {},
     "output_type": "execute_result"
    }
   ],
   "source": [
    "X_train.columns"
   ]
  },
  {
   "cell_type": "code",
   "execution_count": 441,
   "metadata": {},
   "outputs": [],
   "source": [
    "y_pred = clf.predict(X_test)"
   ]
  },
  {
   "cell_type": "code",
   "execution_count": 453,
   "metadata": {},
   "outputs": [],
   "source": [
    "results = pd.DataFrame(data = {'predicted': y_pred, 'actual': y_test})\n",
    "results['actual'] = results['actual'].astype(float)"
   ]
  },
  {
   "cell_type": "code",
   "execution_count": 454,
   "metadata": {},
   "outputs": [
    {
     "data": {
      "text/html": [
       "<div>\n",
       "<style scoped>\n",
       "    .dataframe tbody tr th:only-of-type {\n",
       "        vertical-align: middle;\n",
       "    }\n",
       "\n",
       "    .dataframe tbody tr th {\n",
       "        vertical-align: top;\n",
       "    }\n",
       "\n",
       "    .dataframe thead th {\n",
       "        text-align: right;\n",
       "    }\n",
       "</style>\n",
       "<table border=\"1\" class=\"dataframe\">\n",
       "  <thead>\n",
       "    <tr style=\"text-align: right;\">\n",
       "      <th></th>\n",
       "      <th>predicted</th>\n",
       "      <th>actual</th>\n",
       "    </tr>\n",
       "    <tr>\n",
       "      <th>_id</th>\n",
       "      <th></th>\n",
       "      <th></th>\n",
       "    </tr>\n",
       "  </thead>\n",
       "  <tbody>\n",
       "    <tr>\n",
       "      <th>https://reality.idnes.cz/detail/prodej/byt/praha-8-sokolovska/6061edb32710000a19746093/?s-et=flat&amp;s-ot=sale&amp;s-l=VUSC-19</th>\n",
       "      <td>2.316814e+07</td>\n",
       "      <td>14680000.0</td>\n",
       "    </tr>\n",
       "    <tr>\n",
       "      <th>https://reality.idnes.cz/detail/prodej/byt/praha-5-podbelohorska/60702d5318ca410971155703/?s-et=flat&amp;s-ot=sale&amp;s-l=VUSC-19</th>\n",
       "      <td>1.090403e+07</td>\n",
       "      <td>14137742.0</td>\n",
       "    </tr>\n",
       "    <tr>\n",
       "      <th>https://reality.idnes.cz/detail/prodej/byt/praha-5-ke-smichovu/5e15d5e737ba4d5b094f8943/?s-et=flat&amp;s-ot=sale&amp;s-l=VUSC-19</th>\n",
       "      <td>1.292157e+07</td>\n",
       "      <td>9400000.0</td>\n",
       "    </tr>\n",
       "    <tr>\n",
       "      <th>https://reality.idnes.cz/detail/prodej/byt/praha-8-brezenska/6076f0844317a32fda5eccc3/?s-et=flat&amp;s-ot=sale&amp;s-l=VUSC-19</th>\n",
       "      <td>8.910746e+06</td>\n",
       "      <td>11778300.0</td>\n",
       "    </tr>\n",
       "    <tr>\n",
       "      <th>https://reality.idnes.cz/detail/prodej/byt/praha-3-basilejske-namesti/6032871896241e63d2616613/?s-et=flat&amp;s-ot=sale&amp;s-l=VUSC-19</th>\n",
       "      <td>8.185484e+06</td>\n",
       "      <td>6500000.0</td>\n",
       "    </tr>\n",
       "    <tr>\n",
       "      <th>...</th>\n",
       "      <td>...</td>\n",
       "      <td>...</td>\n",
       "    </tr>\n",
       "    <tr>\n",
       "      <th>https://reality.idnes.cz/detail/prodej/byt/praha-9-pod-harfou/602153b40f9f27434d43b4ab/?s-et=flat&amp;s-ot=sale&amp;s-l=VUSC-19</th>\n",
       "      <td>1.314413e+07</td>\n",
       "      <td>12891755.0</td>\n",
       "    </tr>\n",
       "    <tr>\n",
       "      <th>https://reality.idnes.cz/detail/prodej/byt/praha-3-kristanova/5f1fd8e037ba4d0c9b244123/?s-et=flat&amp;s-ot=sale&amp;s-l=VUSC-19</th>\n",
       "      <td>6.020869e+06</td>\n",
       "      <td>6300000.0</td>\n",
       "    </tr>\n",
       "    <tr>\n",
       "      <th>https://www.bezrealitky.cz/nemovitosti-byty-domy/653246-nabidka-prodej-bytu-herlikovicka-hlavni-mesto-praha</th>\n",
       "      <td>1.315837e+07</td>\n",
       "      <td>8890000.0</td>\n",
       "    </tr>\n",
       "    <tr>\n",
       "      <th>https://reality.idnes.cz/detail/prodej/byt/praha-13-tlumacovska/60643a0dfd35df055d2c80b2/?s-et=flat&amp;s-ot=sale&amp;s-l=VUSC-19</th>\n",
       "      <td>1.290588e+07</td>\n",
       "      <td>9800000.0</td>\n",
       "    </tr>\n",
       "    <tr>\n",
       "      <th>https://reality.idnes.cz/detail/prodej/byt/praha-10-vinohradska/5ff75fc95da18b4ed05e22d3/?s-et=flat&amp;s-ot=sale&amp;s-l=VUSC-19</th>\n",
       "      <td>7.142208e+06</td>\n",
       "      <td>6730000.0</td>\n",
       "    </tr>\n",
       "  </tbody>\n",
       "</table>\n",
       "<p>802 rows × 2 columns</p>\n",
       "</div>"
      ],
      "text/plain": [
       "                                                       predicted      actual\n",
       "_id                                                                         \n",
       "https://reality.idnes.cz/detail/prodej/byt/prah...  2.316814e+07  14680000.0\n",
       "https://reality.idnes.cz/detail/prodej/byt/prah...  1.090403e+07  14137742.0\n",
       "https://reality.idnes.cz/detail/prodej/byt/prah...  1.292157e+07   9400000.0\n",
       "https://reality.idnes.cz/detail/prodej/byt/prah...  8.910746e+06  11778300.0\n",
       "https://reality.idnes.cz/detail/prodej/byt/prah...  8.185484e+06   6500000.0\n",
       "...                                                          ...         ...\n",
       "https://reality.idnes.cz/detail/prodej/byt/prah...  1.314413e+07  12891755.0\n",
       "https://reality.idnes.cz/detail/prodej/byt/prah...  6.020869e+06   6300000.0\n",
       "https://www.bezrealitky.cz/nemovitosti-byty-dom...  1.315837e+07   8890000.0\n",
       "https://reality.idnes.cz/detail/prodej/byt/prah...  1.290588e+07   9800000.0\n",
       "https://reality.idnes.cz/detail/prodej/byt/prah...  7.142208e+06   6730000.0\n",
       "\n",
       "[802 rows x 2 columns]"
      ]
     },
     "execution_count": 454,
     "metadata": {},
     "output_type": "execute_result"
    }
   ],
   "source": [
    "results"
   ]
  },
  {
   "cell_type": "code",
   "execution_count": 466,
   "metadata": {},
   "outputs": [
    {
     "data": {
      "image/png": "[encoded data removed]",
      "text/plain": [
       "<Figure size 1152x576 with 1 Axes>"
      ]
     },
     "metadata": {},
     "output_type": "display_data"
    }
   ],
   "source": [
    "import seaborn as sns\n",
    "import matplotlib.pyplot as plt\n",
    "\n",
    "sns.set(style=\"darkgrid\")\n",
    "figsize = (16,8)\n",
    "\n",
    "fig, axs = plt.subplots(figsize=figsize)\n",
    "# plotting bo'th distibutions on the same figure\n",
    "fig = sns.kdeplot(results['predicted'], shade=True, color=\"r\")\n",
    "fig = sns.kdeplot(results['actual'], shade=True, color=\"b\")\n",
    "plt.legend(['predicted', 'actual'], fontsize = 15)\n",
    "plt.show()"
   ]
  },
  {
   "cell_type": "code",
   "execution_count": null,
   "metadata": {},
   "outputs": [],
   "source": []
  }
 ],
 "metadata": {
  "kernelspec": {
   "display_name": "Python 3",
   "language": "python",
   "name": "python3"
  },
  "language_info": {
   "codemirror_mode": {
    "name": "ipython",
    "version": 3
   },
   "file_extension": ".py",
   "mimetype": "text/x-python",
   "name": "python",
   "nbconvert_exporter": "python",
   "pygments_lexer": "ipython3",
   "version": "3.8.5"
  }
 },
 "nbformat": 4,
 "nbformat_minor": 4
}
