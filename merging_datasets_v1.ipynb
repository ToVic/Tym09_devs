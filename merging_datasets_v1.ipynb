{
 "cells": [
  {
   "cell_type": "code",
   "execution_count": 2,
   "metadata": {},
   "outputs": [],
   "source": [
    "import os \n",
    "import pandas as pd\n",
    "import re\n",
    "import numpy as np"
   ]
  },
  {
   "cell_type": "code",
   "execution_count": 3,
   "metadata": {},
   "outputs": [],
   "source": [
    "data = {}\n",
    "\n",
    "for file in os.listdir('./data'):\n",
    "    path = os.path.join('./data', file)\n",
    "    name = re.search(r'[a-zA-Z]+', file)[0]\n",
    "    data[name] = pd.read_csv(path)"
   ]
  },
  {
   "cell_type": "code",
   "execution_count": 4,
   "metadata": {},
   "outputs": [
    {
     "data": {
      "text/plain": "dict_keys(['bytysReality', 'bezrealitky', 'idnes', 'prazskereality'])"
     },
     "execution_count": 4,
     "metadata": {},
     "output_type": "execute_result"
    }
   ],
   "source": [
    "data.keys()"
   ]
  },
  {
   "cell_type": "markdown",
   "metadata": {},
   "source": [
    "# BEZREALITKY"
   ]
  },
  {
   "cell_type": "code",
   "execution_count": 5,
   "metadata": {},
   "outputs": [
    {
     "data": {
      "text/plain": "   Unnamed: 0                                               link  \\\n0           0  https://www.bezrealitky.cz/nemovitosti-byty-do...   \n1           1  https://www.bezrealitky.cz/nemovitosti-byty-do...   \n2           2  https://www.bezrealitky.cz/nemovitosti-byty-do...   \n3           3  https://www.bezrealitky.cz/nemovitosti-byty-do...   \n4           4  https://www.bezrealitky.cz/nemovitosti-byty-do...   \n\n                            title  \\\n0   Prodej bytu  4+1 bez realitky   \n1  Prodej bytu  2+kk bez realitky   \n2  Prodej bytu  2+kk bez realitky   \n3  Prodej bytu  3+kk bez realitky   \n4  Prodej bytu  1+kk bez realitky   \n\n                                             address      id  size   area  \\\n0  Ke Kateřinkám, Praha - Chodov\\n\\n             ...  657344   4+1  77 m²   \n1  Spálená, Praha - Nové Město\\n\\n               ...  646839  2+kk  52 m²   \n2  Peroutkova, Praha - Jinonice\\n\\n              ...  539248  2+kk  54 m²   \n3  U Uhříněveské obory, Praha - Uhříněves\\n\\n    ...  656555  3+kk  76 m²   \n4  Peroutkova, Praha - Jinonice\\n\\n              ...  539246  1+kk  23 m²   \n\n          price   city   city_part  ... floor balcony terrace basement  \\\n0  7.700.000 Kč  Praha      Chodov  ...   9.0   False   False     True   \n1  7.399.000 Kč  Praha  Nové Město  ...   2.0   False   False    False   \n2  4.923.000 Kč  Praha    Jinonice  ...   4.0   False   False    False   \n3  7.200.000 Kč  Praha   Uhříněves  ...   3.0    True   False    False   \n4  2.780.000 Kč  Praha    Jinonice  ...   4.0   False   False    False   \n\n   loggia  parking  elevator  garage  available_from  \\\n0   False     True      True   False    19. 04. 2021   \n1   False    False     False   False    01. 02. 2021   \n2   False    False     False   False             NaN   \n3   False    False      True    True    01. 04. 2021   \n4   False    False     False   False             NaN   \n\n                                         description  \n0  K prodeji exkluzivně nabízíme byt 4+1 (77,29 m...  \n1  Byt o velikosti 52.4 m2 se nachází v ulici Spá...  \n2  Akční cena v rámci Jarní akce do 30.4.2021.\\nU...  \n3  Nabízím k prodeji byt v malém bytovém domě o v...  \n4  Akční cena v rámci Jarní akce do 30.4.2021.\\nU...  \n\n[5 rows x 24 columns]",
      "text/html": "<div>\n<style scoped>\n    .dataframe tbody tr th:only-of-type {\n        vertical-align: middle;\n    }\n\n    .dataframe tbody tr th {\n        vertical-align: top;\n    }\n\n    .dataframe thead th {\n        text-align: right;\n    }\n</style>\n<table border=\"1\" class=\"dataframe\">\n  <thead>\n    <tr style=\"text-align: right;\">\n      <th></th>\n      <th>Unnamed: 0</th>\n      <th>link</th>\n      <th>title</th>\n      <th>address</th>\n      <th>id</th>\n      <th>size</th>\n      <th>area</th>\n      <th>price</th>\n      <th>city</th>\n      <th>city_part</th>\n      <th>...</th>\n      <th>floor</th>\n      <th>balcony</th>\n      <th>terrace</th>\n      <th>basement</th>\n      <th>loggia</th>\n      <th>parking</th>\n      <th>elevator</th>\n      <th>garage</th>\n      <th>available_from</th>\n      <th>description</th>\n    </tr>\n  </thead>\n  <tbody>\n    <tr>\n      <th>0</th>\n      <td>0</td>\n      <td>https://www.bezrealitky.cz/nemovitosti-byty-do...</td>\n      <td>Prodej bytu  4+1 bez realitky</td>\n      <td>Ke Kateřinkám, Praha - Chodov\\n\\n             ...</td>\n      <td>657344</td>\n      <td>4+1</td>\n      <td>77 m²</td>\n      <td>7.700.000 Kč</td>\n      <td>Praha</td>\n      <td>Chodov</td>\n      <td>...</td>\n      <td>9.0</td>\n      <td>False</td>\n      <td>False</td>\n      <td>True</td>\n      <td>False</td>\n      <td>True</td>\n      <td>True</td>\n      <td>False</td>\n      <td>19. 04. 2021</td>\n      <td>K prodeji exkluzivně nabízíme byt 4+1 (77,29 m...</td>\n    </tr>\n    <tr>\n      <th>1</th>\n      <td>1</td>\n      <td>https://www.bezrealitky.cz/nemovitosti-byty-do...</td>\n      <td>Prodej bytu  2+kk bez realitky</td>\n      <td>Spálená, Praha - Nové Město\\n\\n               ...</td>\n      <td>646839</td>\n      <td>2+kk</td>\n      <td>52 m²</td>\n      <td>7.399.000 Kč</td>\n      <td>Praha</td>\n      <td>Nové Město</td>\n      <td>...</td>\n      <td>2.0</td>\n      <td>False</td>\n      <td>False</td>\n      <td>False</td>\n      <td>False</td>\n      <td>False</td>\n      <td>False</td>\n      <td>False</td>\n      <td>01. 02. 2021</td>\n      <td>Byt o velikosti 52.4 m2 se nachází v ulici Spá...</td>\n    </tr>\n    <tr>\n      <th>2</th>\n      <td>2</td>\n      <td>https://www.bezrealitky.cz/nemovitosti-byty-do...</td>\n      <td>Prodej bytu  2+kk bez realitky</td>\n      <td>Peroutkova, Praha - Jinonice\\n\\n              ...</td>\n      <td>539248</td>\n      <td>2+kk</td>\n      <td>54 m²</td>\n      <td>4.923.000 Kč</td>\n      <td>Praha</td>\n      <td>Jinonice</td>\n      <td>...</td>\n      <td>4.0</td>\n      <td>False</td>\n      <td>False</td>\n      <td>False</td>\n      <td>False</td>\n      <td>False</td>\n      <td>False</td>\n      <td>False</td>\n      <td>NaN</td>\n      <td>Akční cena v rámci Jarní akce do 30.4.2021.\\nU...</td>\n    </tr>\n    <tr>\n      <th>3</th>\n      <td>3</td>\n      <td>https://www.bezrealitky.cz/nemovitosti-byty-do...</td>\n      <td>Prodej bytu  3+kk bez realitky</td>\n      <td>U Uhříněveské obory, Praha - Uhříněves\\n\\n    ...</td>\n      <td>656555</td>\n      <td>3+kk</td>\n      <td>76 m²</td>\n      <td>7.200.000 Kč</td>\n      <td>Praha</td>\n      <td>Uhříněves</td>\n      <td>...</td>\n      <td>3.0</td>\n      <td>True</td>\n      <td>False</td>\n      <td>False</td>\n      <td>False</td>\n      <td>False</td>\n      <td>True</td>\n      <td>True</td>\n      <td>01. 04. 2021</td>\n      <td>Nabízím k prodeji byt v malém bytovém domě o v...</td>\n    </tr>\n    <tr>\n      <th>4</th>\n      <td>4</td>\n      <td>https://www.bezrealitky.cz/nemovitosti-byty-do...</td>\n      <td>Prodej bytu  1+kk bez realitky</td>\n      <td>Peroutkova, Praha - Jinonice\\n\\n              ...</td>\n      <td>539246</td>\n      <td>1+kk</td>\n      <td>23 m²</td>\n      <td>2.780.000 Kč</td>\n      <td>Praha</td>\n      <td>Jinonice</td>\n      <td>...</td>\n      <td>4.0</td>\n      <td>False</td>\n      <td>False</td>\n      <td>False</td>\n      <td>False</td>\n      <td>False</td>\n      <td>False</td>\n      <td>False</td>\n      <td>NaN</td>\n      <td>Akční cena v rámci Jarní akce do 30.4.2021.\\nU...</td>\n    </tr>\n  </tbody>\n</table>\n<p>5 rows × 24 columns</p>\n</div>"
     },
     "execution_count": 5,
     "metadata": {},
     "output_type": "execute_result"
    }
   ],
   "source": [
    "data['bezrealitky'].head()"
   ]
  },
  {
   "cell_type": "markdown",
   "metadata": {},
   "source": [
    "# PRAZSKE REALITY"
   ]
  },
  {
   "cell_type": "code",
   "execution_count": 6,
   "metadata": {},
   "outputs": [
    {
     "data": {
      "text/plain": "   Unnamed: 0                                     title  \\\n0           3     Byt na prodej, 2+kk, Praha 4 - Podolí   \n1           4  Byt na prodej, 1+kk, Praha 2 - Vinohrady   \n2           5   Byt na prodej, 3+1, Praha 5 - Hlubočepy   \n3           6    Byt na prodej, 2+kk, Vinohrady - Praha   \n4           7      Byt na prodej, 2+kk, Praha 8 - Libeň   \n\n                                           address  \\\n0  Praha 4 - Podolí, 14 700, Na hřebenech I 1149/1   \n1                    Praha 2 - Vinohrady, Americká   \n2      Praha 5 - Hlubočepy, 15 200, Lamačova 824/9   \n3                       Praha - Vinohrady, Korunní   \n4                       Praha 8 - Libeň, Konšelská   \n\n                                         description     price     updated  \\\n0  Byt na prodej / 2+kk / 71 m2 - Byty na prodej ...  12700000  16.04.2021   \n1  Byt na prodej / 1+kk / 38 m2 - Byty na prodej ...   6199000  15.04.2021   \n2  Byt na prodej / 3+1 / 74 m2 - Byty na prodej t...   6950000  15.04.2021   \n3  Byt na prodej / 2+kk / 87 m2 - Byty na prodej ...   9700000  15.04.2021   \n4  Byt na prodej / 2+kk / 48 m2 - Byty na prodej ...   4944000  15.04.2021   \n\n   size  area   owner building_type  ... basement  elevator  barrier_free  \\\n0  2+kk    71  osobní     skeletová  ...     True      True         False   \n1  1+kk    38  osobní       cihlová  ...    False      True         False   \n2   3+1    74  osobní      panelová  ...     True      True         False   \n3  2+kk    87  osobní       cihlová  ...    False      True         False   \n4  2+kk    48  osobní       cihlová  ...     True      True         False   \n\n   floor  terrace  balcony                        penb  city_part   city  \\\n0      5      ano      NaN                         NaN     Podolí  Praha   \n1      2      NaN      NaN  G - Mimořádně nehospodárná  Vinohrady  Praha   \n2      3      NaN      NaN                         NaN  Hlubočepy  Praha   \n3      2      ano      NaN                         NaN  Vinohrady  Praha   \n4      1      NaN      ano  G - Mimořádně nehospodárná      Libeň  Praha   \n\n                  street  \n0  Na hřebenech I 1149/1  \n1               Americká  \n2         Lamačova 824/9  \n3                Korunní  \n4              Konšelská  \n\n[5 rows x 22 columns]",
      "text/html": "<div>\n<style scoped>\n    .dataframe tbody tr th:only-of-type {\n        vertical-align: middle;\n    }\n\n    .dataframe tbody tr th {\n        vertical-align: top;\n    }\n\n    .dataframe thead th {\n        text-align: right;\n    }\n</style>\n<table border=\"1\" class=\"dataframe\">\n  <thead>\n    <tr style=\"text-align: right;\">\n      <th></th>\n      <th>Unnamed: 0</th>\n      <th>title</th>\n      <th>address</th>\n      <th>description</th>\n      <th>price</th>\n      <th>updated</th>\n      <th>size</th>\n      <th>area</th>\n      <th>owner</th>\n      <th>building_type</th>\n      <th>...</th>\n      <th>basement</th>\n      <th>elevator</th>\n      <th>barrier_free</th>\n      <th>floor</th>\n      <th>terrace</th>\n      <th>balcony</th>\n      <th>penb</th>\n      <th>city_part</th>\n      <th>city</th>\n      <th>street</th>\n    </tr>\n  </thead>\n  <tbody>\n    <tr>\n      <th>0</th>\n      <td>3</td>\n      <td>Byt na prodej, 2+kk, Praha 4 - Podolí</td>\n      <td>Praha 4 - Podolí, 14 700, Na hřebenech I 1149/1</td>\n      <td>Byt na prodej / 2+kk / 71 m2 - Byty na prodej ...</td>\n      <td>12700000</td>\n      <td>16.04.2021</td>\n      <td>2+kk</td>\n      <td>71</td>\n      <td>osobní</td>\n      <td>skeletová</td>\n      <td>...</td>\n      <td>True</td>\n      <td>True</td>\n      <td>False</td>\n      <td>5</td>\n      <td>ano</td>\n      <td>NaN</td>\n      <td>NaN</td>\n      <td>Podolí</td>\n      <td>Praha</td>\n      <td>Na hřebenech I 1149/1</td>\n    </tr>\n    <tr>\n      <th>1</th>\n      <td>4</td>\n      <td>Byt na prodej, 1+kk, Praha 2 - Vinohrady</td>\n      <td>Praha 2 - Vinohrady, Americká</td>\n      <td>Byt na prodej / 1+kk / 38 m2 - Byty na prodej ...</td>\n      <td>6199000</td>\n      <td>15.04.2021</td>\n      <td>1+kk</td>\n      <td>38</td>\n      <td>osobní</td>\n      <td>cihlová</td>\n      <td>...</td>\n      <td>False</td>\n      <td>True</td>\n      <td>False</td>\n      <td>2</td>\n      <td>NaN</td>\n      <td>NaN</td>\n      <td>G - Mimořádně nehospodárná</td>\n      <td>Vinohrady</td>\n      <td>Praha</td>\n      <td>Americká</td>\n    </tr>\n    <tr>\n      <th>2</th>\n      <td>5</td>\n      <td>Byt na prodej, 3+1, Praha 5 - Hlubočepy</td>\n      <td>Praha 5 - Hlubočepy, 15 200, Lamačova 824/9</td>\n      <td>Byt na prodej / 3+1 / 74 m2 - Byty na prodej t...</td>\n      <td>6950000</td>\n      <td>15.04.2021</td>\n      <td>3+1</td>\n      <td>74</td>\n      <td>osobní</td>\n      <td>panelová</td>\n      <td>...</td>\n      <td>True</td>\n      <td>True</td>\n      <td>False</td>\n      <td>3</td>\n      <td>NaN</td>\n      <td>NaN</td>\n      <td>NaN</td>\n      <td>Hlubočepy</td>\n      <td>Praha</td>\n      <td>Lamačova 824/9</td>\n    </tr>\n    <tr>\n      <th>3</th>\n      <td>6</td>\n      <td>Byt na prodej, 2+kk, Vinohrady - Praha</td>\n      <td>Praha - Vinohrady, Korunní</td>\n      <td>Byt na prodej / 2+kk / 87 m2 - Byty na prodej ...</td>\n      <td>9700000</td>\n      <td>15.04.2021</td>\n      <td>2+kk</td>\n      <td>87</td>\n      <td>osobní</td>\n      <td>cihlová</td>\n      <td>...</td>\n      <td>False</td>\n      <td>True</td>\n      <td>False</td>\n      <td>2</td>\n      <td>ano</td>\n      <td>NaN</td>\n      <td>NaN</td>\n      <td>Vinohrady</td>\n      <td>Praha</td>\n      <td>Korunní</td>\n    </tr>\n    <tr>\n      <th>4</th>\n      <td>7</td>\n      <td>Byt na prodej, 2+kk, Praha 8 - Libeň</td>\n      <td>Praha 8 - Libeň, Konšelská</td>\n      <td>Byt na prodej / 2+kk / 48 m2 - Byty na prodej ...</td>\n      <td>4944000</td>\n      <td>15.04.2021</td>\n      <td>2+kk</td>\n      <td>48</td>\n      <td>osobní</td>\n      <td>cihlová</td>\n      <td>...</td>\n      <td>True</td>\n      <td>True</td>\n      <td>False</td>\n      <td>1</td>\n      <td>NaN</td>\n      <td>ano</td>\n      <td>G - Mimořádně nehospodárná</td>\n      <td>Libeň</td>\n      <td>Praha</td>\n      <td>Konšelská</td>\n    </tr>\n  </tbody>\n</table>\n<p>5 rows × 22 columns</p>\n</div>"
     },
     "execution_count": 6,
     "metadata": {},
     "output_type": "execute_result"
    }
   ],
   "source": [
    "data['prazskereality'].head()\n"
   ]
  },
  {
   "cell_type": "markdown",
   "metadata": {},
   "source": [
    "# SREALITY"
   ]
  },
  {
   "cell_type": "code",
   "execution_count": 7,
   "metadata": {},
   "outputs": [
    {
     "data": {
      "text/plain": "                             title                            lokace  \\\n0           Prodej bytu 2+kk 59 m²      U Sluncové, Praha 8 - Karlín   \n1            Prodej bytu 1+1 51 m²      Příčná, Praha 1 - Nové Město   \n2  Prodej bytu 1+1 30 m² (Mezonet)      Řeznická, Praha - Nové Město   \n3            Prodej bytu 1+1 50 m²  Hlubočepská, Praha 5 - Hlubočepy   \n4            Prodej bytu 1+1 36 m²       Sokolovská, Praha 8 - Libeň   \n\n           cena uzitna_plocha podlahova_plocha   stavba     stav_objektu  \\\n0  8 111 263 Kč          59m2             59m2  Cihlová       Novostavba   \n1  5 897 000 Kč          51m2              NaN  Cihlová  Po rekonstrukci   \n2  5 350 000 Kč          30m2              NaN  Cihlová      Velmi dobrý   \n3  5 892 000 Kč          50m2             48m2  Cihlová      Velmi dobrý   \n4  5 282 000 Kč          36m2             34m2  Cihlová  Po rekonstrukci   \n\n  umistneni_objektu                                 podlazi lodzie  ...  \\\n0               NaN                              2. podlaží    NaN  ...   \n1      Centrum obce  přízemí z celkem 6 včetně 1 podzemního    NaN  ...   \n2      Centrum obce                   5. podlaží z celkem 5    NaN  ...   \n3      Centrum obce                   3. podlaží z celkem 5    NaN  ...   \n4      Centrum obce                   3. podlaží z celkem 7    NaN  ...   \n\n                               energeticka_narocnost vybaveni  vytah  \\\n0  Třída B - Velmi úsporná č. 78/2013 Sb. podle v...        N      Y   \n1                                                NaN      NaN      Y   \n2                   Třída G - Mimořádně nehospodárná        Y      Y   \n3  Třída G - Mimořádně nehospodárná č. 78/2013 Sb...      NaN      N   \n4  Třída G - Mimořádně nehospodárná č. 78/2013 Sb...      NaN      Y   \n\n              voda plyn elektrina               odpad  \\\n0              NaN  NaN      230V                 NaN   \n1              NaN  NaN       NaN                 NaN   \n2  Dálkový vodovod  NaN      230V  Veřejná kanalizace   \n3              NaN  NaN       NaN                 NaN   \n4              NaN  NaN       NaN                 NaN   \n\n                telekomunikace  \\\n0  Internet, Kabelová televize   \n1                          NaN   \n2                          NaN   \n3                          NaN   \n4                          NaN   \n\n                                               popis  \\\n0  Krásný nový byt 2+kk o podlahové ploše 58,70 m...   \n1  Poslední byty v rezidenci Ferdinand Palace pří...   \n2  Nabízíme Vám prodej útulného mezonetového bytu...   \n3  Přestaňte snít o novém bydlení. Probuďte se v ...   \n4  Byt č. 32 v dokončení Fit Out orientovaný na s...   \n\n                                                 url  \n0  https://sreality.cz/detail/prodej/byt/2+kk/pra...  \n1  https://sreality.cz/detail/prodej/byt/1+1/prah...  \n2  https://sreality.cz/detail/prodej/byt/1+1/prah...  \n3  https://sreality.cz/detail/prodej/byt/1+1/prah...  \n4  https://sreality.cz/detail/prodej/byt/1+1/prah...  \n\n[5 rows x 23 columns]",
      "text/html": "<div>\n<style scoped>\n    .dataframe tbody tr th:only-of-type {\n        vertical-align: middle;\n    }\n\n    .dataframe tbody tr th {\n        vertical-align: top;\n    }\n\n    .dataframe thead th {\n        text-align: right;\n    }\n</style>\n<table border=\"1\" class=\"dataframe\">\n  <thead>\n    <tr style=\"text-align: right;\">\n      <th></th>\n      <th>title</th>\n      <th>lokace</th>\n      <th>cena</th>\n      <th>uzitna_plocha</th>\n      <th>podlahova_plocha</th>\n      <th>stavba</th>\n      <th>stav_objektu</th>\n      <th>umistneni_objektu</th>\n      <th>podlazi</th>\n      <th>lodzie</th>\n      <th>...</th>\n      <th>energeticka_narocnost</th>\n      <th>vybaveni</th>\n      <th>vytah</th>\n      <th>voda</th>\n      <th>plyn</th>\n      <th>elektrina</th>\n      <th>odpad</th>\n      <th>telekomunikace</th>\n      <th>popis</th>\n      <th>url</th>\n    </tr>\n  </thead>\n  <tbody>\n    <tr>\n      <th>0</th>\n      <td>Prodej bytu 2+kk 59 m²</td>\n      <td>U Sluncové, Praha 8 - Karlín</td>\n      <td>8 111 263 Kč</td>\n      <td>59m2</td>\n      <td>59m2</td>\n      <td>Cihlová</td>\n      <td>Novostavba</td>\n      <td>NaN</td>\n      <td>2. podlaží</td>\n      <td>NaN</td>\n      <td>...</td>\n      <td>Třída B - Velmi úsporná č. 78/2013 Sb. podle v...</td>\n      <td>N</td>\n      <td>Y</td>\n      <td>NaN</td>\n      <td>NaN</td>\n      <td>230V</td>\n      <td>NaN</td>\n      <td>Internet, Kabelová televize</td>\n      <td>Krásný nový byt 2+kk o podlahové ploše 58,70 m...</td>\n      <td>https://sreality.cz/detail/prodej/byt/2+kk/pra...</td>\n    </tr>\n    <tr>\n      <th>1</th>\n      <td>Prodej bytu 1+1 51 m²</td>\n      <td>Příčná, Praha 1 - Nové Město</td>\n      <td>5 897 000 Kč</td>\n      <td>51m2</td>\n      <td>NaN</td>\n      <td>Cihlová</td>\n      <td>Po rekonstrukci</td>\n      <td>Centrum obce</td>\n      <td>přízemí z celkem 6 včetně 1 podzemního</td>\n      <td>NaN</td>\n      <td>...</td>\n      <td>NaN</td>\n      <td>NaN</td>\n      <td>Y</td>\n      <td>NaN</td>\n      <td>NaN</td>\n      <td>NaN</td>\n      <td>NaN</td>\n      <td>NaN</td>\n      <td>Poslední byty v rezidenci Ferdinand Palace pří...</td>\n      <td>https://sreality.cz/detail/prodej/byt/1+1/prah...</td>\n    </tr>\n    <tr>\n      <th>2</th>\n      <td>Prodej bytu 1+1 30 m² (Mezonet)</td>\n      <td>Řeznická, Praha - Nové Město</td>\n      <td>5 350 000 Kč</td>\n      <td>30m2</td>\n      <td>NaN</td>\n      <td>Cihlová</td>\n      <td>Velmi dobrý</td>\n      <td>Centrum obce</td>\n      <td>5. podlaží z celkem 5</td>\n      <td>NaN</td>\n      <td>...</td>\n      <td>Třída G - Mimořádně nehospodárná</td>\n      <td>Y</td>\n      <td>Y</td>\n      <td>Dálkový vodovod</td>\n      <td>NaN</td>\n      <td>230V</td>\n      <td>Veřejná kanalizace</td>\n      <td>NaN</td>\n      <td>Nabízíme Vám prodej útulného mezonetového bytu...</td>\n      <td>https://sreality.cz/detail/prodej/byt/1+1/prah...</td>\n    </tr>\n    <tr>\n      <th>3</th>\n      <td>Prodej bytu 1+1 50 m²</td>\n      <td>Hlubočepská, Praha 5 - Hlubočepy</td>\n      <td>5 892 000 Kč</td>\n      <td>50m2</td>\n      <td>48m2</td>\n      <td>Cihlová</td>\n      <td>Velmi dobrý</td>\n      <td>Centrum obce</td>\n      <td>3. podlaží z celkem 5</td>\n      <td>NaN</td>\n      <td>...</td>\n      <td>Třída G - Mimořádně nehospodárná č. 78/2013 Sb...</td>\n      <td>NaN</td>\n      <td>N</td>\n      <td>NaN</td>\n      <td>NaN</td>\n      <td>NaN</td>\n      <td>NaN</td>\n      <td>NaN</td>\n      <td>Přestaňte snít o novém bydlení. Probuďte se v ...</td>\n      <td>https://sreality.cz/detail/prodej/byt/1+1/prah...</td>\n    </tr>\n    <tr>\n      <th>4</th>\n      <td>Prodej bytu 1+1 36 m²</td>\n      <td>Sokolovská, Praha 8 - Libeň</td>\n      <td>5 282 000 Kč</td>\n      <td>36m2</td>\n      <td>34m2</td>\n      <td>Cihlová</td>\n      <td>Po rekonstrukci</td>\n      <td>Centrum obce</td>\n      <td>3. podlaží z celkem 7</td>\n      <td>NaN</td>\n      <td>...</td>\n      <td>Třída G - Mimořádně nehospodárná č. 78/2013 Sb...</td>\n      <td>NaN</td>\n      <td>Y</td>\n      <td>NaN</td>\n      <td>NaN</td>\n      <td>NaN</td>\n      <td>NaN</td>\n      <td>NaN</td>\n      <td>Byt č. 32 v dokončení Fit Out orientovaný na s...</td>\n      <td>https://sreality.cz/detail/prodej/byt/1+1/prah...</td>\n    </tr>\n  </tbody>\n</table>\n<p>5 rows × 23 columns</p>\n</div>"
     },
     "execution_count": 7,
     "metadata": {},
     "output_type": "execute_result"
    }
   ],
   "source": [
    "data['bytysReality'].head()"
   ]
  },
  {
   "cell_type": "code",
   "execution_count": 8,
   "metadata": {},
   "outputs": [],
   "source": [
    "data['bytysReality'] = data['bytysReality'].rename(columns = {'lokace': 'address', \n",
    "                                                              'cena': 'price',\n",
    "                                                              'uzitna_plocha': 'area',\n",
    "                                                              'podlazi': 'floor',\n",
    "                                                              'url': 'link',\n",
    "                                                              'parkovani': 'parking',\n",
    "                                                              'popis': 'description',\n",
    "                                                              'podlazi': 'floor',\n",
    "                                                              'vytah': 'elevator',\n",
    "                                                              'lodzie': 'loggia'})"
   ]
  },
  {
   "cell_type": "code",
   "execution_count": 9,
   "metadata": {},
   "outputs": [],
   "source": [
    "class processSreality():\n",
    "    \n",
    "    def __init__(self, dataset = data['bytysReality']):\n",
    "    \n",
    "        self.df = dataset.dropna(subset = ['price'])\n",
    "        self.df = self.df.drop(self.df[self.df['price'] == 'Info o ceně u RK'].index)\n",
    "\n",
    "        \n",
    "        self.clean_dataset(self.df)\n",
    "\n",
    "    def fix_price(self, row):\n",
    "        cut_currency =  row[:-3]\n",
    "        return cut_currency.replace('\\xa0', '')\n",
    "    \n",
    "    def get_meters(self, row):\n",
    "        metry_cislo = re.search(r'^[0-9]+', row)\n",
    "        return int(metry_cislo.group(0)) if metry_cislo else \"\"\n",
    "    \n",
    "    def get_region(self, row):\n",
    "        if 'Praha' in str(row):\n",
    "            kraj = row.split(' - ')[-1]\n",
    "        return kraj\n",
    "    \n",
    "    def get_city(self, row):\n",
    "        if 'Praha' in str(row):\n",
    "            city = 'Praha'\n",
    "            return city\n",
    "        \n",
    "    def get_street(self, row):\n",
    "        street = row.split(',')[0]\n",
    "        return street\n",
    "    \n",
    "    def get_size(self, row):\n",
    "        size = re.search(r'[\\d][\\+][\\w]+', row)[0]\n",
    "        return size\n",
    "        \n",
    "    #get meters as number\n",
    "    def clean_dataset(self, df):\n",
    "        df['area'] = df['area'].apply(self.get_meters)\n",
    "        df['city_part'] = df['address'].apply(self.get_region)\n",
    "        df['price'] = df['price'].apply(self.fix_price)\n",
    "        df['city'] = df['address'].apply(self.get_city)\n",
    "        df['street'] = df['address'].apply(self.get_street)\n",
    "        df['size'] = df['title'].apply(self.get_size)\n",
    "        \n",
    "        return df"
   ]
  },
  {
   "cell_type": "code",
   "execution_count": 10,
   "metadata": {},
   "outputs": [],
   "source": [
    "psr = processSreality()"
   ]
  },
  {
   "cell_type": "code",
   "execution_count": 11,
   "metadata": {},
   "outputs": [],
   "source": [
    "sreality = psr.df"
   ]
  },
  {
   "cell_type": "markdown",
   "source": [
    "# IDNES"
   ],
   "metadata": {
    "collapsed": false,
    "pycharm": {
     "name": "#%% md\n"
    }
   }
  },
  {
   "cell_type": "code",
   "execution_count": 12,
   "outputs": [
    {
     "data": {
      "text/plain": "   Unnamed: 0                                               link  \\\n0           0  https://reality.idnes.cz/detail/prodej/byt/pra...   \n1           1  https://reality.idnes.cz/detail/prodej/byt/pra...   \n2           2  https://reality.idnes.cz/detail/prodej/byt/pra...   \n3           3  https://reality.idnes.cz/detail/prodej/byt/pra...   \n4           4  https://reality.idnes.cz/detail/prodej/byt/pra...   \n\n                     title                                    address  \\\n0  Prodej bytu 4+kk 117 m²  U Sluncové, Praha 8 - Karlín, okres Praha   \n1   Prodej bytu 1+kk 30 m²             Legerova, Praha 2 - Nové Město   \n2   Prodej bytu 3+kk 93 m²           Podskalská, Praha 2 - Nové Město   \n3   Prodej bytu 2+kk 52 m²               Červená báň, Praha 8 - Libeň   \n4   Prodej bytu 3+kk 61 m²               Červená báň, Praha 8 - Libeň   \n\n      price                                        description  area  \\\n0  14592002  Krásný nový byt 4+kk o podlahové ploše 116,90 ...   117   \n1   5400000  Dovolujeme si Vám nabídnout byt 1+kk o rozměre...    30   \n2   9450000  Reality 11 Vám zprostředkují prodej atraktivní...    93   \n3   6789976  Byt o dispozici 2+kk a celkové rozloze 56,6 m2...    52   \n4   7842826  Byt o dispozici 3+kk a celkové rozloze 64,5 m2...    61   \n\n  building_type            state building_state  ...     locality electricity  \\\n0       cihlová       novostavba            NaN  ...          NaN         NaN   \n1       cihlová  po rekonstrukci            NaN  ...      centrum    230-400V   \n2       cihlová       dobrý stav     dobrý stav  ...  klidná část         NaN   \n3       smíšená      ve výstavbě            NaN  ...          NaN         NaN   \n4       smíšená      ve výstavbě            NaN  ...          NaN         NaN   \n\n                     parking        gas   equipment  elevator  \\\n0                        NaN  nezaveden  nezařízený      True   \n1                        NaN        NaN         NaN      True   \n2                        NaN        NaN         NaN      True   \n3  garáž, parkování na ulici        NaN         NaN       NaN   \n4  garáž, parkování na ulici        NaN         NaN       NaN   \n\n                       penb internet annual_electricity  size  \n0                         B     True                NaN  4+kk  \n1                         D    False                NaN  1+kk  \n2                         G    False                NaN  3+kk  \n3  B (vyhl. č. 78/2013 Sb.)    False             63 kWh  2+kk  \n4  B (vyhl. č. 78/2013 Sb.)    False             63 kWh  3+kk  \n\n[5 rows x 27 columns]",
      "text/html": "<div>\n<style scoped>\n    .dataframe tbody tr th:only-of-type {\n        vertical-align: middle;\n    }\n\n    .dataframe tbody tr th {\n        vertical-align: top;\n    }\n\n    .dataframe thead th {\n        text-align: right;\n    }\n</style>\n<table border=\"1\" class=\"dataframe\">\n  <thead>\n    <tr style=\"text-align: right;\">\n      <th></th>\n      <th>Unnamed: 0</th>\n      <th>link</th>\n      <th>title</th>\n      <th>address</th>\n      <th>price</th>\n      <th>description</th>\n      <th>area</th>\n      <th>building_type</th>\n      <th>state</th>\n      <th>building_state</th>\n      <th>...</th>\n      <th>locality</th>\n      <th>electricity</th>\n      <th>parking</th>\n      <th>gas</th>\n      <th>equipment</th>\n      <th>elevator</th>\n      <th>penb</th>\n      <th>internet</th>\n      <th>annual_electricity</th>\n      <th>size</th>\n    </tr>\n  </thead>\n  <tbody>\n    <tr>\n      <th>0</th>\n      <td>0</td>\n      <td>https://reality.idnes.cz/detail/prodej/byt/pra...</td>\n      <td>Prodej bytu 4+kk 117 m²</td>\n      <td>U Sluncové, Praha 8 - Karlín, okres Praha</td>\n      <td>14592002</td>\n      <td>Krásný nový byt 4+kk o podlahové ploše 116,90 ...</td>\n      <td>117</td>\n      <td>cihlová</td>\n      <td>novostavba</td>\n      <td>NaN</td>\n      <td>...</td>\n      <td>NaN</td>\n      <td>NaN</td>\n      <td>NaN</td>\n      <td>nezaveden</td>\n      <td>nezařízený</td>\n      <td>True</td>\n      <td>B</td>\n      <td>True</td>\n      <td>NaN</td>\n      <td>4+kk</td>\n    </tr>\n    <tr>\n      <th>1</th>\n      <td>1</td>\n      <td>https://reality.idnes.cz/detail/prodej/byt/pra...</td>\n      <td>Prodej bytu 1+kk 30 m²</td>\n      <td>Legerova, Praha 2 - Nové Město</td>\n      <td>5400000</td>\n      <td>Dovolujeme si Vám nabídnout byt 1+kk o rozměre...</td>\n      <td>30</td>\n      <td>cihlová</td>\n      <td>po rekonstrukci</td>\n      <td>NaN</td>\n      <td>...</td>\n      <td>centrum</td>\n      <td>230-400V</td>\n      <td>NaN</td>\n      <td>NaN</td>\n      <td>NaN</td>\n      <td>True</td>\n      <td>D</td>\n      <td>False</td>\n      <td>NaN</td>\n      <td>1+kk</td>\n    </tr>\n    <tr>\n      <th>2</th>\n      <td>2</td>\n      <td>https://reality.idnes.cz/detail/prodej/byt/pra...</td>\n      <td>Prodej bytu 3+kk 93 m²</td>\n      <td>Podskalská, Praha 2 - Nové Město</td>\n      <td>9450000</td>\n      <td>Reality 11 Vám zprostředkují prodej atraktivní...</td>\n      <td>93</td>\n      <td>cihlová</td>\n      <td>dobrý stav</td>\n      <td>dobrý stav</td>\n      <td>...</td>\n      <td>klidná část</td>\n      <td>NaN</td>\n      <td>NaN</td>\n      <td>NaN</td>\n      <td>NaN</td>\n      <td>True</td>\n      <td>G</td>\n      <td>False</td>\n      <td>NaN</td>\n      <td>3+kk</td>\n    </tr>\n    <tr>\n      <th>3</th>\n      <td>3</td>\n      <td>https://reality.idnes.cz/detail/prodej/byt/pra...</td>\n      <td>Prodej bytu 2+kk 52 m²</td>\n      <td>Červená báň, Praha 8 - Libeň</td>\n      <td>6789976</td>\n      <td>Byt o dispozici 2+kk a celkové rozloze 56,6 m2...</td>\n      <td>52</td>\n      <td>smíšená</td>\n      <td>ve výstavbě</td>\n      <td>NaN</td>\n      <td>...</td>\n      <td>NaN</td>\n      <td>NaN</td>\n      <td>garáž, parkování na ulici</td>\n      <td>NaN</td>\n      <td>NaN</td>\n      <td>NaN</td>\n      <td>B (vyhl. č. 78/2013 Sb.)</td>\n      <td>False</td>\n      <td>63 kWh</td>\n      <td>2+kk</td>\n    </tr>\n    <tr>\n      <th>4</th>\n      <td>4</td>\n      <td>https://reality.idnes.cz/detail/prodej/byt/pra...</td>\n      <td>Prodej bytu 3+kk 61 m²</td>\n      <td>Červená báň, Praha 8 - Libeň</td>\n      <td>7842826</td>\n      <td>Byt o dispozici 3+kk a celkové rozloze 64,5 m2...</td>\n      <td>61</td>\n      <td>smíšená</td>\n      <td>ve výstavbě</td>\n      <td>NaN</td>\n      <td>...</td>\n      <td>NaN</td>\n      <td>NaN</td>\n      <td>garáž, parkování na ulici</td>\n      <td>NaN</td>\n      <td>NaN</td>\n      <td>NaN</td>\n      <td>B (vyhl. č. 78/2013 Sb.)</td>\n      <td>False</td>\n      <td>63 kWh</td>\n      <td>3+kk</td>\n    </tr>\n  </tbody>\n</table>\n<p>5 rows × 27 columns</p>\n</div>"
     },
     "execution_count": 12,
     "metadata": {},
     "output_type": "execute_result"
    }
   ],
   "source": [
    "data['idnes'].head()"
   ],
   "metadata": {
    "collapsed": false,
    "pycharm": {
     "name": "#%%\n"
    }
   }
  },
  {
   "cell_type": "markdown",
   "metadata": {},
   "source": [
    "# MERGING"
   ]
  },
  {
   "cell_type": "code",
   "execution_count": 13,
   "metadata": {},
   "outputs": [
    {
     "name": "stdout",
     "output_type": "stream",
     "text": [
      "bytysReality\n",
      "\n",
      "\n",
      "Index(['title', 'address', 'price', 'area', 'podlahova_plocha', 'stavba',\n",
      "       'stav_objektu', 'umistneni_objektu', 'floor', 'loggia', 'sklep',\n",
      "       'parking', 'doprava', 'energeticka_narocnost', 'vybaveni', 'elevator',\n",
      "       'voda', 'plyn', 'elektrina', 'odpad', 'telekomunikace', 'description',\n",
      "       'link'],\n",
      "      dtype='object')\n",
      "----------------\n",
      "\n",
      "bezrealitky\n",
      "\n",
      "\n",
      "Index(['Unnamed: 0', 'link', 'title', 'address', 'id', 'size', 'area', 'price',\n",
      "       'city', 'city_part', 'owner', 'building_type', 'penb', 'equipment',\n",
      "       'floor', 'balcony', 'terrace', 'basement', 'loggia', 'parking',\n",
      "       'elevator', 'garage', 'available_from', 'description'],\n",
      "      dtype='object')\n",
      "----------------\n",
      "\n",
      "idnes\n",
      "\n",
      "\n",
      "Index(['Unnamed: 0', 'link', 'title', 'address', 'price', 'description',\n",
      "       'area', 'building_type', 'state', 'building_state', 'owner', 'floor',\n",
      "       'floor_max', 'basement', 'heating', 'balcony', 'terrace', 'locality',\n",
      "       'electricity', 'parking', 'gas', 'equipment', 'elevator', 'penb',\n",
      "       'internet', 'annual_electricity', 'size'],\n",
      "      dtype='object')\n",
      "----------------\n",
      "\n",
      "prazskereality\n",
      "\n",
      "\n",
      "Index(['Unnamed: 0', 'title', 'address', 'description', 'price', 'updated',\n",
      "       'size', 'area', 'owner', 'building_type', 'state', 'equipment',\n",
      "       'basement', 'elevator', 'barrier_free', 'floor', 'terrace', 'balcony',\n",
      "       'penb', 'city_part', 'city', 'street'],\n",
      "      dtype='object')\n",
      "----------------\n",
      "\n"
     ]
    }
   ],
   "source": [
    "for source, dataset in data.items():\n",
    "    print(source)\n",
    "    print('\\n')\n",
    "    print(dataset.columns)\n",
    "    print('----------------\\n')"
   ]
  },
  {
   "cell_type": "code",
   "execution_count": 14,
   "metadata": {},
   "outputs": [
    {
     "data": {
      "text/plain": "{'Unnamed: 0',\n 'address',\n 'area',\n 'balcony',\n 'basement',\n 'building_type',\n 'city',\n 'city_part',\n 'description',\n 'elevator',\n 'equipment',\n 'floor',\n 'owner',\n 'penb',\n 'price',\n 'size',\n 'terrace',\n 'title'}"
     },
     "execution_count": 14,
     "metadata": {},
     "output_type": "execute_result"
    }
   ],
   "source": [
    "pr_cols = list(data['prazskereality'].columns)\n",
    "br_cols = list(data['bezrealitky'].columns)\n",
    "\n",
    "set(pr_cols) & set(br_cols)"
   ]
  },
  {
   "cell_type": "code",
   "execution_count": 15,
   "metadata": {},
   "outputs": [],
   "source": [
    "df = pd.concat([data['bezrealitky'], data['prazskereality'], sreality, data['idnes']])"
   ]
  },
  {
   "cell_type": "code",
   "execution_count": 16,
   "metadata": {},
   "outputs": [
    {
     "data": {
      "text/plain": "    Unnamed: 0                                               link  \\\n0          0.0  https://www.bezrealitky.cz/nemovitosti-byty-do...   \n1          1.0  https://www.bezrealitky.cz/nemovitosti-byty-do...   \n2          2.0  https://www.bezrealitky.cz/nemovitosti-byty-do...   \n3          3.0  https://www.bezrealitky.cz/nemovitosti-byty-do...   \n4          4.0  https://www.bezrealitky.cz/nemovitosti-byty-do...   \n..         ...                                                ...   \n43        43.0  https://reality.idnes.cz/detail/prodej/byt/pra...   \n44        44.0  https://reality.idnes.cz/detail/prodej/byt/pra...   \n45        45.0  https://reality.idnes.cz/detail/prodej/byt/pra...   \n46        46.0  https://reality.idnes.cz/detail/prodej/byt/pra...   \n47        48.0  https://reality.idnes.cz/detail/prodej/byt/pra...   \n\n                             title  \\\n0    Prodej bytu  4+1 bez realitky   \n1   Prodej bytu  2+kk bez realitky   \n2   Prodej bytu  2+kk bez realitky   \n3   Prodej bytu  3+kk bez realitky   \n4   Prodej bytu  1+kk bez realitky   \n..                             ...   \n43         Prodej bytu 3+kk 110 m²   \n44          Prodej bytu 1+kk 34 m²   \n45          Prodej bytu 1+kk 43 m²   \n46          Prodej bytu 2+kk 65 m²   \n47          Prodej bytu 2+kk 43 m²   \n\n                                              address        id  size   area  \\\n0   Ke Kateřinkám, Praha - Chodov\\n\\n             ...  657344.0   4+1  77 m²   \n1   Spálená, Praha - Nové Město\\n\\n               ...  646839.0  2+kk  52 m²   \n2   Peroutkova, Praha - Jinonice\\n\\n              ...  539248.0  2+kk  54 m²   \n3   U Uhříněveské obory, Praha - Uhříněves\\n\\n    ...  656555.0  3+kk  76 m²   \n4   Peroutkova, Praha - Jinonice\\n\\n              ...  539246.0  1+kk  23 m²   \n..                                                ...       ...   ...    ...   \n43                     Ostrovského, Praha 5 - Smíchov       NaN  3+kk    110   \n44                       Na Zámyšli, Praha 5 - Košíře       NaN  1+kk     34   \n45                   Počernická, Praha 10 - Strašnice       NaN  1+kk     43   \n46     U kněžské louky, Praha 3 - Žižkov, okres Praha       NaN  2+kk     65   \n47                    Chalabalova, Praha 5 - Stodůlky       NaN  2+kk     43   \n\n           price   city   city_part  ... odpad telekomunikace building_state  \\\n0   7.700.000 Kč  Praha      Chodov  ...   NaN            NaN            NaN   \n1   7.399.000 Kč  Praha  Nové Město  ...   NaN            NaN            NaN   \n2   4.923.000 Kč  Praha    Jinonice  ...   NaN            NaN            NaN   \n3   7.200.000 Kč  Praha   Uhříněves  ...   NaN            NaN            NaN   \n4   2.780.000 Kč  Praha    Jinonice  ...   NaN            NaN            NaN   \n..           ...    ...         ...  ...   ...            ...            ...   \n43      14490000    NaN         NaN  ...   NaN            NaN            NaN   \n44       4480000    NaN         NaN  ...   NaN            NaN            NaN   \n45       5719300    NaN         NaN  ...   NaN            NaN     novostavba   \n46       5290000    NaN         NaN  ...   NaN            NaN            NaN   \n47       5250000    NaN         NaN  ...   NaN            NaN            NaN   \n\n    floor_max             heating     locality electricity      gas internet  \\\n0         NaN                 NaN          NaN         NaN      NaN      NaN   \n1         NaN                 NaN          NaN         NaN      NaN      NaN   \n2         NaN                 NaN          NaN         NaN      NaN      NaN   \n3         NaN                 NaN          NaN         NaN      NaN      NaN   \n4         NaN                 NaN          NaN         NaN      NaN      NaN   \n..        ...                 ...          ...         ...      ...      ...   \n43  5 podlaží                 NaN          NaN         NaN      NaN     True   \n44  7 podlaží                 NaN          NaN         NaN      NaN     True   \n45        NaN                 NaN          NaN         NaN      NaN    False   \n46  4 podlaží  ústřední - dálkové          NaN         NaN  zaveden    False   \n47  5 podlaží                 NaN  klidná část    230-400V      NaN    False   \n\n   annual_electricity  \n0                 NaN  \n1                 NaN  \n2                 NaN  \n3                 NaN  \n4                 NaN  \n..                ...  \n43                NaN  \n44                NaN  \n45                NaN  \n46                NaN  \n47                NaN  \n\n[782 rows x 49 columns]",
      "text/html": "<div>\n<style scoped>\n    .dataframe tbody tr th:only-of-type {\n        vertical-align: middle;\n    }\n\n    .dataframe tbody tr th {\n        vertical-align: top;\n    }\n\n    .dataframe thead th {\n        text-align: right;\n    }\n</style>\n<table border=\"1\" class=\"dataframe\">\n  <thead>\n    <tr style=\"text-align: right;\">\n      <th></th>\n      <th>Unnamed: 0</th>\n      <th>link</th>\n      <th>title</th>\n      <th>address</th>\n      <th>id</th>\n      <th>size</th>\n      <th>area</th>\n      <th>price</th>\n      <th>city</th>\n      <th>city_part</th>\n      <th>...</th>\n      <th>odpad</th>\n      <th>telekomunikace</th>\n      <th>building_state</th>\n      <th>floor_max</th>\n      <th>heating</th>\n      <th>locality</th>\n      <th>electricity</th>\n      <th>gas</th>\n      <th>internet</th>\n      <th>annual_electricity</th>\n    </tr>\n  </thead>\n  <tbody>\n    <tr>\n      <th>0</th>\n      <td>0.0</td>\n      <td>https://www.bezrealitky.cz/nemovitosti-byty-do...</td>\n      <td>Prodej bytu  4+1 bez realitky</td>\n      <td>Ke Kateřinkám, Praha - Chodov\\n\\n             ...</td>\n      <td>657344.0</td>\n      <td>4+1</td>\n      <td>77 m²</td>\n      <td>7.700.000 Kč</td>\n      <td>Praha</td>\n      <td>Chodov</td>\n      <td>...</td>\n      <td>NaN</td>\n      <td>NaN</td>\n      <td>NaN</td>\n      <td>NaN</td>\n      <td>NaN</td>\n      <td>NaN</td>\n      <td>NaN</td>\n      <td>NaN</td>\n      <td>NaN</td>\n      <td>NaN</td>\n    </tr>\n    <tr>\n      <th>1</th>\n      <td>1.0</td>\n      <td>https://www.bezrealitky.cz/nemovitosti-byty-do...</td>\n      <td>Prodej bytu  2+kk bez realitky</td>\n      <td>Spálená, Praha - Nové Město\\n\\n               ...</td>\n      <td>646839.0</td>\n      <td>2+kk</td>\n      <td>52 m²</td>\n      <td>7.399.000 Kč</td>\n      <td>Praha</td>\n      <td>Nové Město</td>\n      <td>...</td>\n      <td>NaN</td>\n      <td>NaN</td>\n      <td>NaN</td>\n      <td>NaN</td>\n      <td>NaN</td>\n      <td>NaN</td>\n      <td>NaN</td>\n      <td>NaN</td>\n      <td>NaN</td>\n      <td>NaN</td>\n    </tr>\n    <tr>\n      <th>2</th>\n      <td>2.0</td>\n      <td>https://www.bezrealitky.cz/nemovitosti-byty-do...</td>\n      <td>Prodej bytu  2+kk bez realitky</td>\n      <td>Peroutkova, Praha - Jinonice\\n\\n              ...</td>\n      <td>539248.0</td>\n      <td>2+kk</td>\n      <td>54 m²</td>\n      <td>4.923.000 Kč</td>\n      <td>Praha</td>\n      <td>Jinonice</td>\n      <td>...</td>\n      <td>NaN</td>\n      <td>NaN</td>\n      <td>NaN</td>\n      <td>NaN</td>\n      <td>NaN</td>\n      <td>NaN</td>\n      <td>NaN</td>\n      <td>NaN</td>\n      <td>NaN</td>\n      <td>NaN</td>\n    </tr>\n    <tr>\n      <th>3</th>\n      <td>3.0</td>\n      <td>https://www.bezrealitky.cz/nemovitosti-byty-do...</td>\n      <td>Prodej bytu  3+kk bez realitky</td>\n      <td>U Uhříněveské obory, Praha - Uhříněves\\n\\n    ...</td>\n      <td>656555.0</td>\n      <td>3+kk</td>\n      <td>76 m²</td>\n      <td>7.200.000 Kč</td>\n      <td>Praha</td>\n      <td>Uhříněves</td>\n      <td>...</td>\n      <td>NaN</td>\n      <td>NaN</td>\n      <td>NaN</td>\n      <td>NaN</td>\n      <td>NaN</td>\n      <td>NaN</td>\n      <td>NaN</td>\n      <td>NaN</td>\n      <td>NaN</td>\n      <td>NaN</td>\n    </tr>\n    <tr>\n      <th>4</th>\n      <td>4.0</td>\n      <td>https://www.bezrealitky.cz/nemovitosti-byty-do...</td>\n      <td>Prodej bytu  1+kk bez realitky</td>\n      <td>Peroutkova, Praha - Jinonice\\n\\n              ...</td>\n      <td>539246.0</td>\n      <td>1+kk</td>\n      <td>23 m²</td>\n      <td>2.780.000 Kč</td>\n      <td>Praha</td>\n      <td>Jinonice</td>\n      <td>...</td>\n      <td>NaN</td>\n      <td>NaN</td>\n      <td>NaN</td>\n      <td>NaN</td>\n      <td>NaN</td>\n      <td>NaN</td>\n      <td>NaN</td>\n      <td>NaN</td>\n      <td>NaN</td>\n      <td>NaN</td>\n    </tr>\n    <tr>\n      <th>...</th>\n      <td>...</td>\n      <td>...</td>\n      <td>...</td>\n      <td>...</td>\n      <td>...</td>\n      <td>...</td>\n      <td>...</td>\n      <td>...</td>\n      <td>...</td>\n      <td>...</td>\n      <td>...</td>\n      <td>...</td>\n      <td>...</td>\n      <td>...</td>\n      <td>...</td>\n      <td>...</td>\n      <td>...</td>\n      <td>...</td>\n      <td>...</td>\n      <td>...</td>\n      <td>...</td>\n    </tr>\n    <tr>\n      <th>43</th>\n      <td>43.0</td>\n      <td>https://reality.idnes.cz/detail/prodej/byt/pra...</td>\n      <td>Prodej bytu 3+kk 110 m²</td>\n      <td>Ostrovského, Praha 5 - Smíchov</td>\n      <td>NaN</td>\n      <td>3+kk</td>\n      <td>110</td>\n      <td>14490000</td>\n      <td>NaN</td>\n      <td>NaN</td>\n      <td>...</td>\n      <td>NaN</td>\n      <td>NaN</td>\n      <td>NaN</td>\n      <td>5 podlaží</td>\n      <td>NaN</td>\n      <td>NaN</td>\n      <td>NaN</td>\n      <td>NaN</td>\n      <td>True</td>\n      <td>NaN</td>\n    </tr>\n    <tr>\n      <th>44</th>\n      <td>44.0</td>\n      <td>https://reality.idnes.cz/detail/prodej/byt/pra...</td>\n      <td>Prodej bytu 1+kk 34 m²</td>\n      <td>Na Zámyšli, Praha 5 - Košíře</td>\n      <td>NaN</td>\n      <td>1+kk</td>\n      <td>34</td>\n      <td>4480000</td>\n      <td>NaN</td>\n      <td>NaN</td>\n      <td>...</td>\n      <td>NaN</td>\n      <td>NaN</td>\n      <td>NaN</td>\n      <td>7 podlaží</td>\n      <td>NaN</td>\n      <td>NaN</td>\n      <td>NaN</td>\n      <td>NaN</td>\n      <td>True</td>\n      <td>NaN</td>\n    </tr>\n    <tr>\n      <th>45</th>\n      <td>45.0</td>\n      <td>https://reality.idnes.cz/detail/prodej/byt/pra...</td>\n      <td>Prodej bytu 1+kk 43 m²</td>\n      <td>Počernická, Praha 10 - Strašnice</td>\n      <td>NaN</td>\n      <td>1+kk</td>\n      <td>43</td>\n      <td>5719300</td>\n      <td>NaN</td>\n      <td>NaN</td>\n      <td>...</td>\n      <td>NaN</td>\n      <td>NaN</td>\n      <td>novostavba</td>\n      <td>NaN</td>\n      <td>NaN</td>\n      <td>NaN</td>\n      <td>NaN</td>\n      <td>NaN</td>\n      <td>False</td>\n      <td>NaN</td>\n    </tr>\n    <tr>\n      <th>46</th>\n      <td>46.0</td>\n      <td>https://reality.idnes.cz/detail/prodej/byt/pra...</td>\n      <td>Prodej bytu 2+kk 65 m²</td>\n      <td>U kněžské louky, Praha 3 - Žižkov, okres Praha</td>\n      <td>NaN</td>\n      <td>2+kk</td>\n      <td>65</td>\n      <td>5290000</td>\n      <td>NaN</td>\n      <td>NaN</td>\n      <td>...</td>\n      <td>NaN</td>\n      <td>NaN</td>\n      <td>NaN</td>\n      <td>4 podlaží</td>\n      <td>ústřední - dálkové</td>\n      <td>NaN</td>\n      <td>NaN</td>\n      <td>zaveden</td>\n      <td>False</td>\n      <td>NaN</td>\n    </tr>\n    <tr>\n      <th>47</th>\n      <td>48.0</td>\n      <td>https://reality.idnes.cz/detail/prodej/byt/pra...</td>\n      <td>Prodej bytu 2+kk 43 m²</td>\n      <td>Chalabalova, Praha 5 - Stodůlky</td>\n      <td>NaN</td>\n      <td>2+kk</td>\n      <td>43</td>\n      <td>5250000</td>\n      <td>NaN</td>\n      <td>NaN</td>\n      <td>...</td>\n      <td>NaN</td>\n      <td>NaN</td>\n      <td>NaN</td>\n      <td>5 podlaží</td>\n      <td>NaN</td>\n      <td>klidná část</td>\n      <td>230-400V</td>\n      <td>NaN</td>\n      <td>False</td>\n      <td>NaN</td>\n    </tr>\n  </tbody>\n</table>\n<p>782 rows × 49 columns</p>\n</div>"
     },
     "execution_count": 16,
     "metadata": {},
     "output_type": "execute_result"
    }
   ],
   "source": [
    "df"
   ]
  },
  {
   "cell_type": "code",
   "execution_count": 17,
   "metadata": {},
   "outputs": [
    {
     "data": {
      "text/plain": "Index(['Unnamed: 0', 'link', 'title', 'address', 'id', 'size', 'area', 'price',\n       'city', 'city_part', 'owner', 'building_type', 'penb', 'equipment',\n       'floor', 'balcony', 'terrace', 'basement', 'loggia', 'parking',\n       'elevator', 'garage', 'available_from', 'description', 'updated',\n       'state', 'barrier_free', 'street', 'podlahova_plocha', 'stavba',\n       'stav_objektu', 'umistneni_objektu', 'sklep', 'doprava',\n       'energeticka_narocnost', 'vybaveni', 'voda', 'plyn', 'elektrina',\n       'odpad', 'telekomunikace', 'building_state', 'floor_max', 'heating',\n       'locality', 'electricity', 'gas', 'internet', 'annual_electricity'],\n      dtype='object')"
     },
     "execution_count": 17,
     "metadata": {},
     "output_type": "execute_result"
    }
   ],
   "source": [
    "df.columns"
   ]
  },
  {
   "cell_type": "code",
   "execution_count": 18,
   "outputs": [
    {
     "data": {
      "text/plain": "description                0\ntitle                      0\naddress                    0\narea                       0\nprice                      1\nsize                       4\nfloor                     13\nelevator                  28\ncity                      48\ncity_part                 48\nUnnamed: 0                59\nowner                     59\nbasement                  59\nbuilding_type             64\nequipment                 98\npenb                     114\nbalcony                  212\nterrace                  231\nlink                     235\nparking                  317\nloggia                   332\nid                       342\ngarage                   342\navailable_from           362\nstreet                   488\nstate                    501\nupdated                  547\nbarrier_free             547\nstavba                   723\nstav_objektu             723\nenergeticka_narocnost    733\ninternet                 734\npodlahova_plocha         740\nvybaveni                 742\nfloor_max                745\nsklep                    751\numistneni_objektu        752\nelektrina                752\nvoda                     753\nodpad                    759\nlocality                 762\ntelekomunikace           762\nplyn                     763\nbuilding_state           763\nheating                  768\nelectricity              770\nannual_electricity       771\ngas                      779\ndoprava                  782\ndtype: int64"
     },
     "execution_count": 18,
     "metadata": {},
     "output_type": "execute_result"
    }
   ],
   "source": [
    "df.isna().sum().sort_values()\n"
   ],
   "metadata": {
    "collapsed": false,
    "pycharm": {
     "name": "#%%\n"
    }
   }
  },
  {
   "cell_type": "code",
   "execution_count": null,
   "outputs": [],
   "source": [],
   "metadata": {
    "collapsed": false,
    "pycharm": {
     "name": "#%%\n"
    }
   }
  }
 ],
 "metadata": {
  "kernelspec": {
   "display_name": "Python 3",
   "language": "python",
   "name": "python3"
  },
  "language_info": {
   "codemirror_mode": {
    "name": "ipython",
    "version": 3
   },
   "file_extension": ".py",
   "mimetype": "text/x-python",
   "name": "python",
   "nbconvert_exporter": "python",
   "pygments_lexer": "ipython3",
   "version": "3.8.5"
  }
 },
 "nbformat": 4,
 "nbformat_minor": 4
}